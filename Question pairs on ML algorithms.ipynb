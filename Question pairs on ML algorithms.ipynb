{
 "cells": [
  {
   "cell_type": "code",
   "execution_count": 1,
   "id": "c0bb4114",
   "metadata": {},
   "outputs": [],
   "source": [
    "import pandas as pd\n",
    "import numpy as np\n",
    "df = pd.read_csv('train.csv')"
   ]
  },
  {
   "cell_type": "code",
   "execution_count": 2,
   "id": "d043ac1c",
   "metadata": {},
   "outputs": [
    {
     "name": "stdout",
     "output_type": "stream",
     "text": [
      "(30000, 6)\n"
     ]
    }
   ],
   "source": [
    "df = df.sample(30000)\n",
    "print(df.shape)"
   ]
  },
  {
   "cell_type": "code",
   "execution_count": 3,
   "id": "9df5df5c",
   "metadata": {},
   "outputs": [
    {
     "data": {
      "text/html": [
       "<div>\n",
       "<style scoped>\n",
       "    .dataframe tbody tr th:only-of-type {\n",
       "        vertical-align: middle;\n",
       "    }\n",
       "\n",
       "    .dataframe tbody tr th {\n",
       "        vertical-align: top;\n",
       "    }\n",
       "\n",
       "    .dataframe thead th {\n",
       "        text-align: right;\n",
       "    }\n",
       "</style>\n",
       "<table border=\"1\" class=\"dataframe\">\n",
       "  <thead>\n",
       "    <tr style=\"text-align: right;\">\n",
       "      <th></th>\n",
       "      <th>id</th>\n",
       "      <th>qid1</th>\n",
       "      <th>qid2</th>\n",
       "      <th>question1</th>\n",
       "      <th>question2</th>\n",
       "      <th>is_duplicate</th>\n",
       "    </tr>\n",
       "  </thead>\n",
       "  <tbody>\n",
       "    <tr>\n",
       "      <th>327032</th>\n",
       "      <td>327032</td>\n",
       "      <td>104815</td>\n",
       "      <td>453414</td>\n",
       "      <td>What does it mean to claim zero allowances on ...</td>\n",
       "      <td>Why did my employer give me a W-9 Form to fill...</td>\n",
       "      <td>0</td>\n",
       "    </tr>\n",
       "  </tbody>\n",
       "</table>\n",
       "</div>"
      ],
      "text/plain": [
       "            id    qid1    qid2  \\\n",
       "327032  327032  104815  453414   \n",
       "\n",
       "                                                question1  \\\n",
       "327032  What does it mean to claim zero allowances on ...   \n",
       "\n",
       "                                                question2  is_duplicate  \n",
       "327032  Why did my employer give me a W-9 Form to fill...             0  "
      ]
     },
     "execution_count": 3,
     "metadata": {},
     "output_type": "execute_result"
    }
   ],
   "source": [
    "df[:1]"
   ]
  },
  {
   "cell_type": "code",
   "execution_count": 4,
   "id": "d2ed508d",
   "metadata": {},
   "outputs": [
    {
     "data": {
      "text/plain": [
       "id              0\n",
       "qid1            0\n",
       "qid2            0\n",
       "question1       0\n",
       "question2       0\n",
       "is_duplicate    0\n",
       "dtype: int64"
      ]
     },
     "execution_count": 4,
     "metadata": {},
     "output_type": "execute_result"
    }
   ],
   "source": [
    "df.isnull().sum()"
   ]
  },
  {
   "cell_type": "code",
   "execution_count": 5,
   "id": "1a3cf84e",
   "metadata": {},
   "outputs": [],
   "source": [
    "df = df.dropna()"
   ]
  },
  {
   "cell_type": "code",
   "execution_count": 6,
   "id": "b1d49193",
   "metadata": {},
   "outputs": [
    {
     "name": "stdout",
     "output_type": "stream",
     "text": [
      "0    18900\n",
      "1    11100\n",
      "Name: is_duplicate, dtype: int64\n",
      "0    63.0\n",
      "1    37.0\n",
      "Name: is_duplicate, dtype: float64\n"
     ]
    },
    {
     "data": {
      "text/plain": [
       "<AxesSubplot:>"
      ]
     },
     "execution_count": 6,
     "metadata": {},
     "output_type": "execute_result"
    },
    {
     "data": {
      "image/png": "[encoded data removed]",
      "text/plain": [
       "<Figure size 432x288 with 1 Axes>"
      ]
     },
     "metadata": {
      "needs_background": "light"
     },
     "output_type": "display_data"
    }
   ],
   "source": [
    "## Distrubition of duplication and non duplication\n",
    "\n",
    "print(df['is_duplicate'].value_counts())\n",
    "print((df['is_duplicate'].value_counts()/df['is_duplicate'].count())*100)\n",
    "df['is_duplicate'].value_counts().plot(kind='bar')"
   ]
  },
  {
   "cell_type": "code",
   "execution_count": 7,
   "id": "75adbd92",
   "metadata": {},
   "outputs": [
    {
     "name": "stdout",
     "output_type": "stream",
     "text": [
      "number of unique questions 55323\n",
      "number of question getting repeated 3456\n"
     ]
    }
   ],
   "source": [
    "qid = pd.Series(df['qid1'].tolist() + df['qid2'].tolist())\n",
    "print(\"number of unique questions\",np.unique(qid).shape[0])\n",
    "x = qid.value_counts()>1\n",
    "print(\"number of question getting repeated\", x[x].shape[0])"
   ]
  },
  {
   "cell_type": "code",
   "execution_count": 8,
   "id": "78829260",
   "metadata": {},
   "outputs": [
    {
     "data": {
      "image/png": "[encoded data removed]",
      "text/plain": [
       "<Figure size 432x288 with 1 Axes>"
      ]
     },
     "metadata": {
      "needs_background": "light"
     },
     "output_type": "display_data"
    }
   ],
   "source": [
    "import matplotlib.pyplot as plt\n",
    "plt.hist(qid.value_counts().values, bins=160)\n",
    "plt.yscale('log')\n",
    "plt.show()"
   ]
  },
  {
   "cell_type": "code",
   "execution_count": 9,
   "id": "90d3572c",
   "metadata": {},
   "outputs": [],
   "source": [
    "## Feature engineering\n",
    "df['qsn1_len'] = df['question1'].str.len()\n",
    "df['qsn2_len'] = df['question2'].str.len()"
   ]
  },
  {
   "cell_type": "code",
   "execution_count": 10,
   "id": "488ae3cc",
   "metadata": {},
   "outputs": [],
   "source": [
    "df['qsn1_word_len'] = df['question1'].str.split().str.len()\n",
    "df['qsn2_word_len'] = df['question2'].str.split().str.len()"
   ]
  },
  {
   "cell_type": "code",
   "execution_count": 11,
   "id": "c15e2e88",
   "metadata": {},
   "outputs": [
    {
     "data": {
      "text/html": [
       "<div>\n",
       "<style scoped>\n",
       "    .dataframe tbody tr th:only-of-type {\n",
       "        vertical-align: middle;\n",
       "    }\n",
       "\n",
       "    .dataframe tbody tr th {\n",
       "        vertical-align: top;\n",
       "    }\n",
       "\n",
       "    .dataframe thead th {\n",
       "        text-align: right;\n",
       "    }\n",
       "</style>\n",
       "<table border=\"1\" class=\"dataframe\">\n",
       "  <thead>\n",
       "    <tr style=\"text-align: right;\">\n",
       "      <th></th>\n",
       "      <th>id</th>\n",
       "      <th>qid1</th>\n",
       "      <th>qid2</th>\n",
       "      <th>question1</th>\n",
       "      <th>question2</th>\n",
       "      <th>is_duplicate</th>\n",
       "      <th>qsn1_len</th>\n",
       "      <th>qsn2_len</th>\n",
       "      <th>qsn1_word_len</th>\n",
       "      <th>qsn2_word_len</th>\n",
       "    </tr>\n",
       "  </thead>\n",
       "  <tbody>\n",
       "    <tr>\n",
       "      <th>327032</th>\n",
       "      <td>327032</td>\n",
       "      <td>104815</td>\n",
       "      <td>453414</td>\n",
       "      <td>What does it mean to claim zero allowances on ...</td>\n",
       "      <td>Why did my employer give me a W-9 Form to fill...</td>\n",
       "      <td>0</td>\n",
       "      <td>52</td>\n",
       "      <td>73</td>\n",
       "      <td>11</td>\n",
       "      <td>17</td>\n",
       "    </tr>\n",
       "    <tr>\n",
       "      <th>233188</th>\n",
       "      <td>233188</td>\n",
       "      <td>238242</td>\n",
       "      <td>343378</td>\n",
       "      <td>How many rbi branches are there in India?</td>\n",
       "      <td>Is the Finance Ministry or the RBI a better fu...</td>\n",
       "      <td>0</td>\n",
       "      <td>41</td>\n",
       "      <td>61</td>\n",
       "      <td>8</td>\n",
       "      <td>12</td>\n",
       "    </tr>\n",
       "    <tr>\n",
       "      <th>77190</th>\n",
       "      <td>77190</td>\n",
       "      <td>131838</td>\n",
       "      <td>131839</td>\n",
       "      <td>If everything in a dollar store is $1, how doe...</td>\n",
       "      <td>How does Big Bazaar profit in a \"buy 1 get 1 f...</td>\n",
       "      <td>0</td>\n",
       "      <td>65</td>\n",
       "      <td>56</td>\n",
       "      <td>14</td>\n",
       "      <td>13</td>\n",
       "    </tr>\n",
       "    <tr>\n",
       "      <th>69224</th>\n",
       "      <td>69224</td>\n",
       "      <td>119475</td>\n",
       "      <td>119476</td>\n",
       "      <td>What is mean by capability curve?</td>\n",
       "      <td>What is generator capability curve?</td>\n",
       "      <td>1</td>\n",
       "      <td>33</td>\n",
       "      <td>35</td>\n",
       "      <td>6</td>\n",
       "      <td>5</td>\n",
       "    </tr>\n",
       "    <tr>\n",
       "      <th>188666</th>\n",
       "      <td>188666</td>\n",
       "      <td>287276</td>\n",
       "      <td>287277</td>\n",
       "      <td>What is this symbol?</td>\n",
       "      <td>What is this the symbol of?</td>\n",
       "      <td>0</td>\n",
       "      <td>20</td>\n",
       "      <td>27</td>\n",
       "      <td>4</td>\n",
       "      <td>6</td>\n",
       "    </tr>\n",
       "  </tbody>\n",
       "</table>\n",
       "</div>"
      ],
      "text/plain": [
       "            id    qid1    qid2  \\\n",
       "327032  327032  104815  453414   \n",
       "233188  233188  238242  343378   \n",
       "77190    77190  131838  131839   \n",
       "69224    69224  119475  119476   \n",
       "188666  188666  287276  287277   \n",
       "\n",
       "                                                question1  \\\n",
       "327032  What does it mean to claim zero allowances on ...   \n",
       "233188          How many rbi branches are there in India?   \n",
       "77190   If everything in a dollar store is $1, how doe...   \n",
       "69224                   What is mean by capability curve?   \n",
       "188666                               What is this symbol?   \n",
       "\n",
       "                                                question2  is_duplicate  \\\n",
       "327032  Why did my employer give me a W-9 Form to fill...             0   \n",
       "233188  Is the Finance Ministry or the RBI a better fu...             0   \n",
       "77190   How does Big Bazaar profit in a \"buy 1 get 1 f...             0   \n",
       "69224                 What is generator capability curve?             1   \n",
       "188666                        What is this the symbol of?             0   \n",
       "\n",
       "        qsn1_len  qsn2_len  qsn1_word_len  qsn2_word_len  \n",
       "327032        52        73             11             17  \n",
       "233188        41        61              8             12  \n",
       "77190         65        56             14             13  \n",
       "69224         33        35              6              5  \n",
       "188666        20        27              4              6  "
      ]
     },
     "execution_count": 11,
     "metadata": {},
     "output_type": "execute_result"
    }
   ],
   "source": [
    "df.head()"
   ]
  },
  {
   "cell_type": "code",
   "execution_count": 12,
   "id": "79b5df64",
   "metadata": {},
   "outputs": [],
   "source": [
    "def common_word(row):\n",
    "    q1 = set(map(lambda word: word.lower().strip(), row['question1'].split(' ')))\n",
    "    q2 = set(map(lambda word: word.lower().strip(), row['question2'].split(' ')))\n",
    "    return len(q1 & q2)"
   ]
  },
  {
   "cell_type": "code",
   "execution_count": 13,
   "id": "7fb29868",
   "metadata": {},
   "outputs": [
    {
     "data": {
      "text/plain": [
       "{'giri', 'hello', 'iam', 'nlp', 'on', 'project', 'sunil', 'working'}"
      ]
     },
     "execution_count": 13,
     "metadata": {},
     "output_type": "execute_result"
    }
   ],
   "source": [
    "set(map(lambda word: word.lower().strip(), 'hello iam sunil giri working on NLP project'.split(' ')))"
   ]
  },
  {
   "cell_type": "code",
   "execution_count": 14,
   "id": "8bb81bfe",
   "metadata": {},
   "outputs": [],
   "source": [
    "df['common_word'] = df.apply(common_word, axis=1)"
   ]
  },
  {
   "cell_type": "code",
   "execution_count": 15,
   "id": "2dc1e8df",
   "metadata": {},
   "outputs": [],
   "source": [
    "def total_words(row):\n",
    "    q1 = set(map(lambda word: word.lower().strip(), row['question1'].split(' ')))\n",
    "    q2 = set(map(lambda word: word.lower().strip(), row['question2'].split(' ')))\n",
    "    return (len(q1) + len(q2))"
   ]
  },
  {
   "cell_type": "code",
   "execution_count": 16,
   "id": "10c3e65d",
   "metadata": {},
   "outputs": [],
   "source": [
    "df['total_word'] = df.apply(total_words, axis=1)"
   ]
  },
  {
   "cell_type": "code",
   "execution_count": 17,
   "id": "2fd50625",
   "metadata": {},
   "outputs": [
    {
     "data": {
      "text/html": [
       "<div>\n",
       "<style scoped>\n",
       "    .dataframe tbody tr th:only-of-type {\n",
       "        vertical-align: middle;\n",
       "    }\n",
       "\n",
       "    .dataframe tbody tr th {\n",
       "        vertical-align: top;\n",
       "    }\n",
       "\n",
       "    .dataframe thead th {\n",
       "        text-align: right;\n",
       "    }\n",
       "</style>\n",
       "<table border=\"1\" class=\"dataframe\">\n",
       "  <thead>\n",
       "    <tr style=\"text-align: right;\">\n",
       "      <th></th>\n",
       "      <th>id</th>\n",
       "      <th>qid1</th>\n",
       "      <th>qid2</th>\n",
       "      <th>question1</th>\n",
       "      <th>question2</th>\n",
       "      <th>is_duplicate</th>\n",
       "      <th>qsn1_len</th>\n",
       "      <th>qsn2_len</th>\n",
       "      <th>qsn1_word_len</th>\n",
       "      <th>qsn2_word_len</th>\n",
       "      <th>common_word</th>\n",
       "      <th>total_word</th>\n",
       "      <th>word_share</th>\n",
       "    </tr>\n",
       "  </thead>\n",
       "  <tbody>\n",
       "    <tr>\n",
       "      <th>327032</th>\n",
       "      <td>327032</td>\n",
       "      <td>104815</td>\n",
       "      <td>453414</td>\n",
       "      <td>What does it mean to claim zero allowances on ...</td>\n",
       "      <td>Why did my employer give me a W-9 Form to fill...</td>\n",
       "      <td>0</td>\n",
       "      <td>52</td>\n",
       "      <td>73</td>\n",
       "      <td>11</td>\n",
       "      <td>17</td>\n",
       "      <td>2</td>\n",
       "      <td>27</td>\n",
       "      <td>0.07</td>\n",
       "    </tr>\n",
       "    <tr>\n",
       "      <th>233188</th>\n",
       "      <td>233188</td>\n",
       "      <td>238242</td>\n",
       "      <td>343378</td>\n",
       "      <td>How many rbi branches are there in India?</td>\n",
       "      <td>Is the Finance Ministry or the RBI a better fu...</td>\n",
       "      <td>0</td>\n",
       "      <td>41</td>\n",
       "      <td>61</td>\n",
       "      <td>8</td>\n",
       "      <td>12</td>\n",
       "      <td>2</td>\n",
       "      <td>19</td>\n",
       "      <td>0.11</td>\n",
       "    </tr>\n",
       "  </tbody>\n",
       "</table>\n",
       "</div>"
      ],
      "text/plain": [
       "            id    qid1    qid2  \\\n",
       "327032  327032  104815  453414   \n",
       "233188  233188  238242  343378   \n",
       "\n",
       "                                                question1  \\\n",
       "327032  What does it mean to claim zero allowances on ...   \n",
       "233188          How many rbi branches are there in India?   \n",
       "\n",
       "                                                question2  is_duplicate  \\\n",
       "327032  Why did my employer give me a W-9 Form to fill...             0   \n",
       "233188  Is the Finance Ministry or the RBI a better fu...             0   \n",
       "\n",
       "        qsn1_len  qsn2_len  qsn1_word_len  qsn2_word_len  common_word  \\\n",
       "327032        52        73             11             17            2   \n",
       "233188        41        61              8             12            2   \n",
       "\n",
       "        total_word  word_share  \n",
       "327032          27        0.07  \n",
       "233188          19        0.11  "
      ]
     },
     "execution_count": 17,
     "metadata": {},
     "output_type": "execute_result"
    }
   ],
   "source": [
    "df['word_share'] = round(df['common_word']/df['total_word'],2)\n",
    "df.head(2)"
   ]
  },
  {
   "cell_type": "code",
   "execution_count": 18,
   "id": "e15e5dc9",
   "metadata": {},
   "outputs": [
    {
     "name": "stderr",
     "output_type": "stream",
     "text": [
      "C:\\python37\\lib\\site-packages\\seaborn\\distributions.py:2619: FutureWarning: `distplot` is a deprecated function and will be removed in a future version. Please adapt your code to use either `displot` (a figure-level function with similar flexibility) or `histplot` (an axes-level function for histograms).\n",
      "  warnings.warn(msg, FutureWarning)\n"
     ]
    },
    {
     "data": {
      "text/plain": [
       "<AxesSubplot:xlabel='qsn1_len', ylabel='Density'>"
      ]
     },
     "execution_count": 18,
     "metadata": {},
     "output_type": "execute_result"
    },
    {
     "data": {
      "image/png": "[encoded data removed]",
      "text/plain": [
       "<Figure size 432x288 with 1 Axes>"
      ]
     },
     "metadata": {
      "needs_background": "light"
     },
     "output_type": "display_data"
    }
   ],
   "source": [
    "import seaborn as sns\n",
    "sns.distplot(df['qsn1_len'])"
   ]
  },
  {
   "cell_type": "code",
   "execution_count": 19,
   "id": "22c4b354",
   "metadata": {},
   "outputs": [
    {
     "data": {
      "text/html": [
       "<div>\n",
       "<style scoped>\n",
       "    .dataframe tbody tr th:only-of-type {\n",
       "        vertical-align: middle;\n",
       "    }\n",
       "\n",
       "    .dataframe tbody tr th {\n",
       "        vertical-align: top;\n",
       "    }\n",
       "\n",
       "    .dataframe thead th {\n",
       "        text-align: right;\n",
       "    }\n",
       "</style>\n",
       "<table border=\"1\" class=\"dataframe\">\n",
       "  <thead>\n",
       "    <tr style=\"text-align: right;\">\n",
       "      <th></th>\n",
       "      <th>id</th>\n",
       "      <th>qid1</th>\n",
       "      <th>qid2</th>\n",
       "      <th>is_duplicate</th>\n",
       "      <th>qsn1_len</th>\n",
       "      <th>qsn2_len</th>\n",
       "      <th>qsn1_word_len</th>\n",
       "      <th>qsn2_word_len</th>\n",
       "      <th>common_word</th>\n",
       "      <th>total_word</th>\n",
       "      <th>word_share</th>\n",
       "    </tr>\n",
       "  </thead>\n",
       "  <tbody>\n",
       "    <tr>\n",
       "      <th>count</th>\n",
       "      <td>30000.000000</td>\n",
       "      <td>30000.000000</td>\n",
       "      <td>30000.00000</td>\n",
       "      <td>30000.000000</td>\n",
       "      <td>30000.000000</td>\n",
       "      <td>30000.000000</td>\n",
       "      <td>30000.000000</td>\n",
       "      <td>30000.000000</td>\n",
       "      <td>30000.000000</td>\n",
       "      <td>30000.000000</td>\n",
       "      <td>30000.000000</td>\n",
       "    </tr>\n",
       "    <tr>\n",
       "      <th>mean</th>\n",
       "      <td>201300.601900</td>\n",
       "      <td>216937.256333</td>\n",
       "      <td>220353.65070</td>\n",
       "      <td>0.370000</td>\n",
       "      <td>59.638667</td>\n",
       "      <td>59.857067</td>\n",
       "      <td>10.952200</td>\n",
       "      <td>11.137700</td>\n",
       "      <td>4.520667</td>\n",
       "      <td>21.091633</td>\n",
       "      <td>0.224099</td>\n",
       "    </tr>\n",
       "    <tr>\n",
       "      <th>std</th>\n",
       "      <td>117195.815746</td>\n",
       "      <td>157994.485738</td>\n",
       "      <td>159956.95711</td>\n",
       "      <td>0.482812</td>\n",
       "      <td>30.064668</td>\n",
       "      <td>34.572458</td>\n",
       "      <td>5.453553</td>\n",
       "      <td>6.472388</td>\n",
       "      <td>3.101810</td>\n",
       "      <td>8.614680</td>\n",
       "      <td>0.128476</td>\n",
       "    </tr>\n",
       "    <tr>\n",
       "      <th>min</th>\n",
       "      <td>32.000000</td>\n",
       "      <td>32.000000</td>\n",
       "      <td>38.00000</td>\n",
       "      <td>0.000000</td>\n",
       "      <td>1.000000</td>\n",
       "      <td>6.000000</td>\n",
       "      <td>1.000000</td>\n",
       "      <td>1.000000</td>\n",
       "      <td>0.000000</td>\n",
       "      <td>4.000000</td>\n",
       "      <td>0.000000</td>\n",
       "    </tr>\n",
       "    <tr>\n",
       "      <th>25%</th>\n",
       "      <td>99441.500000</td>\n",
       "      <td>73947.500000</td>\n",
       "      <td>73424.50000</td>\n",
       "      <td>0.000000</td>\n",
       "      <td>40.000000</td>\n",
       "      <td>39.000000</td>\n",
       "      <td>7.000000</td>\n",
       "      <td>7.000000</td>\n",
       "      <td>2.000000</td>\n",
       "      <td>15.000000</td>\n",
       "      <td>0.120000</td>\n",
       "    </tr>\n",
       "    <tr>\n",
       "      <th>50%</th>\n",
       "      <td>200795.500000</td>\n",
       "      <td>191105.500000</td>\n",
       "      <td>195505.00000</td>\n",
       "      <td>0.000000</td>\n",
       "      <td>52.000000</td>\n",
       "      <td>50.000000</td>\n",
       "      <td>10.000000</td>\n",
       "      <td>9.000000</td>\n",
       "      <td>4.000000</td>\n",
       "      <td>19.000000</td>\n",
       "      <td>0.220000</td>\n",
       "    </tr>\n",
       "    <tr>\n",
       "      <th>75%</th>\n",
       "      <td>302859.500000</td>\n",
       "      <td>346279.000000</td>\n",
       "      <td>352864.25000</td>\n",
       "      <td>1.000000</td>\n",
       "      <td>72.000000</td>\n",
       "      <td>71.000000</td>\n",
       "      <td>13.000000</td>\n",
       "      <td>13.000000</td>\n",
       "      <td>6.000000</td>\n",
       "      <td>25.000000</td>\n",
       "      <td>0.320000</td>\n",
       "    </tr>\n",
       "    <tr>\n",
       "      <th>max</th>\n",
       "      <td>404277.000000</td>\n",
       "      <td>537871.000000</td>\n",
       "      <td>537918.00000</td>\n",
       "      <td>1.000000</td>\n",
       "      <td>334.000000</td>\n",
       "      <td>1151.000000</td>\n",
       "      <td>68.000000</td>\n",
       "      <td>237.000000</td>\n",
       "      <td>27.000000</td>\n",
       "      <td>149.000000</td>\n",
       "      <td>0.500000</td>\n",
       "    </tr>\n",
       "  </tbody>\n",
       "</table>\n",
       "</div>"
      ],
      "text/plain": [
       "                  id           qid1          qid2  is_duplicate      qsn1_len  \\\n",
       "count   30000.000000   30000.000000   30000.00000  30000.000000  30000.000000   \n",
       "mean   201300.601900  216937.256333  220353.65070      0.370000     59.638667   \n",
       "std    117195.815746  157994.485738  159956.95711      0.482812     30.064668   \n",
       "min        32.000000      32.000000      38.00000      0.000000      1.000000   \n",
       "25%     99441.500000   73947.500000   73424.50000      0.000000     40.000000   \n",
       "50%    200795.500000  191105.500000  195505.00000      0.000000     52.000000   \n",
       "75%    302859.500000  346279.000000  352864.25000      1.000000     72.000000   \n",
       "max    404277.000000  537871.000000  537918.00000      1.000000    334.000000   \n",
       "\n",
       "           qsn2_len  qsn1_word_len  qsn2_word_len   common_word    total_word  \\\n",
       "count  30000.000000   30000.000000   30000.000000  30000.000000  30000.000000   \n",
       "mean      59.857067      10.952200      11.137700      4.520667     21.091633   \n",
       "std       34.572458       5.453553       6.472388      3.101810      8.614680   \n",
       "min        6.000000       1.000000       1.000000      0.000000      4.000000   \n",
       "25%       39.000000       7.000000       7.000000      2.000000     15.000000   \n",
       "50%       50.000000      10.000000       9.000000      4.000000     19.000000   \n",
       "75%       71.000000      13.000000      13.000000      6.000000     25.000000   \n",
       "max     1151.000000      68.000000     237.000000     27.000000    149.000000   \n",
       "\n",
       "         word_share  \n",
       "count  30000.000000  \n",
       "mean       0.224099  \n",
       "std        0.128476  \n",
       "min        0.000000  \n",
       "25%        0.120000  \n",
       "50%        0.220000  \n",
       "75%        0.320000  \n",
       "max        0.500000  "
      ]
     },
     "execution_count": 19,
     "metadata": {},
     "output_type": "execute_result"
    }
   ],
   "source": [
    "df.describe()"
   ]
  },
  {
   "cell_type": "code",
   "execution_count": 20,
   "id": "07421831",
   "metadata": {},
   "outputs": [
    {
     "name": "stderr",
     "output_type": "stream",
     "text": [
      "C:\\python37\\lib\\site-packages\\seaborn\\distributions.py:2619: FutureWarning: `distplot` is a deprecated function and will be removed in a future version. Please adapt your code to use either `displot` (a figure-level function with similar flexibility) or `histplot` (an axes-level function for histograms).\n",
      "  warnings.warn(msg, FutureWarning)\n",
      "C:\\python37\\lib\\site-packages\\seaborn\\distributions.py:2619: FutureWarning: `distplot` is a deprecated function and will be removed in a future version. Please adapt your code to use either `displot` (a figure-level function with similar flexibility) or `histplot` (an axes-level function for histograms).\n",
      "  warnings.warn(msg, FutureWarning)\n"
     ]
    },
    {
     "data": {
      "image/png": "[encoded data removed]",
      "text/plain": [
       "<Figure size 432x288 with 1 Axes>"
      ]
     },
     "metadata": {
      "needs_background": "light"
     },
     "output_type": "display_data"
    }
   ],
   "source": [
    "sns.distplot(df[df['is_duplicate']==0]['common_word'],label='non_duplicate')\n",
    "sns.distplot(df[df['is_duplicate']==1]['common_word'],label='duplicate')\n",
    "plt.legend()\n",
    "plt.show()"
   ]
  },
  {
   "cell_type": "code",
   "execution_count": 21,
   "id": "827aef3e",
   "metadata": {},
   "outputs": [
    {
     "name": "stderr",
     "output_type": "stream",
     "text": [
      "C:\\python37\\lib\\site-packages\\seaborn\\distributions.py:2619: FutureWarning: `distplot` is a deprecated function and will be removed in a future version. Please adapt your code to use either `displot` (a figure-level function with similar flexibility) or `histplot` (an axes-level function for histograms).\n",
      "  warnings.warn(msg, FutureWarning)\n",
      "C:\\python37\\lib\\site-packages\\seaborn\\distributions.py:2619: FutureWarning: `distplot` is a deprecated function and will be removed in a future version. Please adapt your code to use either `displot` (a figure-level function with similar flexibility) or `histplot` (an axes-level function for histograms).\n",
      "  warnings.warn(msg, FutureWarning)\n"
     ]
    },
    {
     "data": {
      "image/png": "[encoded data removed]",
      "text/plain": [
       "<Figure size 432x288 with 1 Axes>"
      ]
     },
     "metadata": {
      "needs_background": "light"
     },
     "output_type": "display_data"
    }
   ],
   "source": [
    "sns.distplot(df[df['is_duplicate']==0]['word_share'],label='non_duplicate')\n",
    "sns.distplot(df[df['is_duplicate']==1]['word_share'],label='duplicate')\n",
    "plt.legend()\n",
    "plt.show()"
   ]
  },
  {
   "cell_type": "code",
   "execution_count": 22,
   "id": "49f3f6e4",
   "metadata": {},
   "outputs": [
    {
     "data": {
      "text/html": [
       "<div>\n",
       "<style scoped>\n",
       "    .dataframe tbody tr th:only-of-type {\n",
       "        vertical-align: middle;\n",
       "    }\n",
       "\n",
       "    .dataframe tbody tr th {\n",
       "        vertical-align: top;\n",
       "    }\n",
       "\n",
       "    .dataframe thead th {\n",
       "        text-align: right;\n",
       "    }\n",
       "</style>\n",
       "<table border=\"1\" class=\"dataframe\">\n",
       "  <thead>\n",
       "    <tr style=\"text-align: right;\">\n",
       "      <th></th>\n",
       "      <th>id</th>\n",
       "      <th>qid1</th>\n",
       "      <th>qid2</th>\n",
       "      <th>question1</th>\n",
       "      <th>question2</th>\n",
       "      <th>is_duplicate</th>\n",
       "      <th>qsn1_len</th>\n",
       "      <th>qsn2_len</th>\n",
       "      <th>qsn1_word_len</th>\n",
       "      <th>qsn2_word_len</th>\n",
       "      <th>common_word</th>\n",
       "      <th>total_word</th>\n",
       "      <th>word_share</th>\n",
       "    </tr>\n",
       "  </thead>\n",
       "  <tbody>\n",
       "    <tr>\n",
       "      <th>327032</th>\n",
       "      <td>327032</td>\n",
       "      <td>104815</td>\n",
       "      <td>453414</td>\n",
       "      <td>What does it mean to claim zero allowances on ...</td>\n",
       "      <td>Why did my employer give me a W-9 Form to fill...</td>\n",
       "      <td>0</td>\n",
       "      <td>52</td>\n",
       "      <td>73</td>\n",
       "      <td>11</td>\n",
       "      <td>17</td>\n",
       "      <td>2</td>\n",
       "      <td>27</td>\n",
       "      <td>0.07</td>\n",
       "    </tr>\n",
       "    <tr>\n",
       "      <th>233188</th>\n",
       "      <td>233188</td>\n",
       "      <td>238242</td>\n",
       "      <td>343378</td>\n",
       "      <td>How many rbi branches are there in India?</td>\n",
       "      <td>Is the Finance Ministry or the RBI a better fu...</td>\n",
       "      <td>0</td>\n",
       "      <td>41</td>\n",
       "      <td>61</td>\n",
       "      <td>8</td>\n",
       "      <td>12</td>\n",
       "      <td>2</td>\n",
       "      <td>19</td>\n",
       "      <td>0.11</td>\n",
       "    </tr>\n",
       "    <tr>\n",
       "      <th>77190</th>\n",
       "      <td>77190</td>\n",
       "      <td>131838</td>\n",
       "      <td>131839</td>\n",
       "      <td>If everything in a dollar store is $1, how doe...</td>\n",
       "      <td>How does Big Bazaar profit in a \"buy 1 get 1 f...</td>\n",
       "      <td>0</td>\n",
       "      <td>65</td>\n",
       "      <td>56</td>\n",
       "      <td>14</td>\n",
       "      <td>13</td>\n",
       "      <td>4</td>\n",
       "      <td>25</td>\n",
       "      <td>0.16</td>\n",
       "    </tr>\n",
       "    <tr>\n",
       "      <th>69224</th>\n",
       "      <td>69224</td>\n",
       "      <td>119475</td>\n",
       "      <td>119476</td>\n",
       "      <td>What is mean by capability curve?</td>\n",
       "      <td>What is generator capability curve?</td>\n",
       "      <td>1</td>\n",
       "      <td>33</td>\n",
       "      <td>35</td>\n",
       "      <td>6</td>\n",
       "      <td>5</td>\n",
       "      <td>4</td>\n",
       "      <td>11</td>\n",
       "      <td>0.36</td>\n",
       "    </tr>\n",
       "    <tr>\n",
       "      <th>188666</th>\n",
       "      <td>188666</td>\n",
       "      <td>287276</td>\n",
       "      <td>287277</td>\n",
       "      <td>What is this symbol?</td>\n",
       "      <td>What is this the symbol of?</td>\n",
       "      <td>0</td>\n",
       "      <td>20</td>\n",
       "      <td>27</td>\n",
       "      <td>4</td>\n",
       "      <td>6</td>\n",
       "      <td>3</td>\n",
       "      <td>10</td>\n",
       "      <td>0.30</td>\n",
       "    </tr>\n",
       "  </tbody>\n",
       "</table>\n",
       "</div>"
      ],
      "text/plain": [
       "            id    qid1    qid2  \\\n",
       "327032  327032  104815  453414   \n",
       "233188  233188  238242  343378   \n",
       "77190    77190  131838  131839   \n",
       "69224    69224  119475  119476   \n",
       "188666  188666  287276  287277   \n",
       "\n",
       "                                                question1  \\\n",
       "327032  What does it mean to claim zero allowances on ...   \n",
       "233188          How many rbi branches are there in India?   \n",
       "77190   If everything in a dollar store is $1, how doe...   \n",
       "69224                   What is mean by capability curve?   \n",
       "188666                               What is this symbol?   \n",
       "\n",
       "                                                question2  is_duplicate  \\\n",
       "327032  Why did my employer give me a W-9 Form to fill...             0   \n",
       "233188  Is the Finance Ministry or the RBI a better fu...             0   \n",
       "77190   How does Big Bazaar profit in a \"buy 1 get 1 f...             0   \n",
       "69224                 What is generator capability curve?             1   \n",
       "188666                        What is this the symbol of?             0   \n",
       "\n",
       "        qsn1_len  qsn2_len  qsn1_word_len  qsn2_word_len  common_word  \\\n",
       "327032        52        73             11             17            2   \n",
       "233188        41        61              8             12            2   \n",
       "77190         65        56             14             13            4   \n",
       "69224         33        35              6              5            4   \n",
       "188666        20        27              4              6            3   \n",
       "\n",
       "        total_word  word_share  \n",
       "327032          27        0.07  \n",
       "233188          19        0.11  \n",
       "77190           25        0.16  \n",
       "69224           11        0.36  \n",
       "188666          10        0.30  "
      ]
     },
     "execution_count": 22,
     "metadata": {},
     "output_type": "execute_result"
    }
   ],
   "source": [
    "temp_df = df[['question1', 'question2']]\n",
    "df.head()"
   ]
  },
  {
   "cell_type": "code",
   "execution_count": 23,
   "id": "7e13c69c",
   "metadata": {},
   "outputs": [
    {
     "name": "stdout",
     "output_type": "stream",
     "text": [
      "(30000, 8)\n"
     ]
    },
    {
     "data": {
      "text/html": [
       "<div>\n",
       "<style scoped>\n",
       "    .dataframe tbody tr th:only-of-type {\n",
       "        vertical-align: middle;\n",
       "    }\n",
       "\n",
       "    .dataframe tbody tr th {\n",
       "        vertical-align: top;\n",
       "    }\n",
       "\n",
       "    .dataframe thead th {\n",
       "        text-align: right;\n",
       "    }\n",
       "</style>\n",
       "<table border=\"1\" class=\"dataframe\">\n",
       "  <thead>\n",
       "    <tr style=\"text-align: right;\">\n",
       "      <th></th>\n",
       "      <th>is_duplicate</th>\n",
       "      <th>qsn1_len</th>\n",
       "      <th>qsn2_len</th>\n",
       "      <th>qsn1_word_len</th>\n",
       "      <th>qsn2_word_len</th>\n",
       "      <th>common_word</th>\n",
       "      <th>total_word</th>\n",
       "      <th>word_share</th>\n",
       "    </tr>\n",
       "  </thead>\n",
       "  <tbody>\n",
       "    <tr>\n",
       "      <th>327032</th>\n",
       "      <td>0</td>\n",
       "      <td>52</td>\n",
       "      <td>73</td>\n",
       "      <td>11</td>\n",
       "      <td>17</td>\n",
       "      <td>2</td>\n",
       "      <td>27</td>\n",
       "      <td>0.07</td>\n",
       "    </tr>\n",
       "    <tr>\n",
       "      <th>233188</th>\n",
       "      <td>0</td>\n",
       "      <td>41</td>\n",
       "      <td>61</td>\n",
       "      <td>8</td>\n",
       "      <td>12</td>\n",
       "      <td>2</td>\n",
       "      <td>19</td>\n",
       "      <td>0.11</td>\n",
       "    </tr>\n",
       "    <tr>\n",
       "      <th>77190</th>\n",
       "      <td>0</td>\n",
       "      <td>65</td>\n",
       "      <td>56</td>\n",
       "      <td>14</td>\n",
       "      <td>13</td>\n",
       "      <td>4</td>\n",
       "      <td>25</td>\n",
       "      <td>0.16</td>\n",
       "    </tr>\n",
       "    <tr>\n",
       "      <th>69224</th>\n",
       "      <td>1</td>\n",
       "      <td>33</td>\n",
       "      <td>35</td>\n",
       "      <td>6</td>\n",
       "      <td>5</td>\n",
       "      <td>4</td>\n",
       "      <td>11</td>\n",
       "      <td>0.36</td>\n",
       "    </tr>\n",
       "    <tr>\n",
       "      <th>188666</th>\n",
       "      <td>0</td>\n",
       "      <td>20</td>\n",
       "      <td>27</td>\n",
       "      <td>4</td>\n",
       "      <td>6</td>\n",
       "      <td>3</td>\n",
       "      <td>10</td>\n",
       "      <td>0.30</td>\n",
       "    </tr>\n",
       "  </tbody>\n",
       "</table>\n",
       "</div>"
      ],
      "text/plain": [
       "        is_duplicate  qsn1_len  qsn2_len  qsn1_word_len  qsn2_word_len  \\\n",
       "327032             0        52        73             11             17   \n",
       "233188             0        41        61              8             12   \n",
       "77190              0        65        56             14             13   \n",
       "69224              1        33        35              6              5   \n",
       "188666             0        20        27              4              6   \n",
       "\n",
       "        common_word  total_word  word_share  \n",
       "327032            2          27        0.07  \n",
       "233188            2          19        0.11  \n",
       "77190             4          25        0.16  \n",
       "69224             4          11        0.36  \n",
       "188666            3          10        0.30  "
      ]
     },
     "execution_count": 23,
     "metadata": {},
     "output_type": "execute_result"
    }
   ],
   "source": [
    "new_df = df.drop(columns = ['id','qid1','qid2','question1','question2'])\n",
    "print(new_df.shape)\n",
    "new_df.head()"
   ]
  },
  {
   "cell_type": "code",
   "execution_count": 24,
   "id": "d2679c7c",
   "metadata": {},
   "outputs": [],
   "source": [
    "from sklearn.feature_extraction.text import CountVectorizer\n",
    "question = list(temp_df['question1']) + list(temp_df['question2'])\n",
    "cv = CountVectorizer(max_features=3000)\n",
    "q1_arr, q2_arr = np.vsplit(cv.fit_transform(question).toarray(),2)"
   ]
  },
  {
   "cell_type": "code",
   "execution_count": 25,
   "id": "d73749ba",
   "metadata": {},
   "outputs": [
    {
     "data": {
      "text/plain": [
       "(30000, 6000)"
      ]
     },
     "execution_count": 25,
     "metadata": {},
     "output_type": "execute_result"
    }
   ],
   "source": [
    "temp_df1 = pd.DataFrame(q1_arr,index=temp_df.index)\n",
    "temp_df2 = pd.DataFrame(q2_arr,index=temp_df.index)\n",
    "temp_new = pd.concat([temp_df1, temp_df2], axis=1)\n",
    "temp_new.shape"
   ]
  },
  {
   "cell_type": "code",
   "execution_count": 26,
   "id": "ab9a3190",
   "metadata": {},
   "outputs": [
    {
     "name": "stdout",
     "output_type": "stream",
     "text": [
      "(30000, 6008)\n"
     ]
    },
    {
     "data": {
      "text/html": [
       "<div>\n",
       "<style scoped>\n",
       "    .dataframe tbody tr th:only-of-type {\n",
       "        vertical-align: middle;\n",
       "    }\n",
       "\n",
       "    .dataframe tbody tr th {\n",
       "        vertical-align: top;\n",
       "    }\n",
       "\n",
       "    .dataframe thead th {\n",
       "        text-align: right;\n",
       "    }\n",
       "</style>\n",
       "<table border=\"1\" class=\"dataframe\">\n",
       "  <thead>\n",
       "    <tr style=\"text-align: right;\">\n",
       "      <th></th>\n",
       "      <th>is_duplicate</th>\n",
       "      <th>qsn1_len</th>\n",
       "      <th>qsn2_len</th>\n",
       "      <th>qsn1_word_len</th>\n",
       "      <th>qsn2_word_len</th>\n",
       "      <th>common_word</th>\n",
       "      <th>total_word</th>\n",
       "      <th>word_share</th>\n",
       "      <th>0</th>\n",
       "      <th>1</th>\n",
       "      <th>...</th>\n",
       "      <th>2990</th>\n",
       "      <th>2991</th>\n",
       "      <th>2992</th>\n",
       "      <th>2993</th>\n",
       "      <th>2994</th>\n",
       "      <th>2995</th>\n",
       "      <th>2996</th>\n",
       "      <th>2997</th>\n",
       "      <th>2998</th>\n",
       "      <th>2999</th>\n",
       "    </tr>\n",
       "  </thead>\n",
       "  <tbody>\n",
       "    <tr>\n",
       "      <th>327032</th>\n",
       "      <td>0</td>\n",
       "      <td>52</td>\n",
       "      <td>73</td>\n",
       "      <td>11</td>\n",
       "      <td>17</td>\n",
       "      <td>2</td>\n",
       "      <td>27</td>\n",
       "      <td>0.07</td>\n",
       "      <td>0</td>\n",
       "      <td>0</td>\n",
       "      <td>...</td>\n",
       "      <td>0</td>\n",
       "      <td>0</td>\n",
       "      <td>0</td>\n",
       "      <td>0</td>\n",
       "      <td>0</td>\n",
       "      <td>0</td>\n",
       "      <td>0</td>\n",
       "      <td>0</td>\n",
       "      <td>0</td>\n",
       "      <td>0</td>\n",
       "    </tr>\n",
       "    <tr>\n",
       "      <th>233188</th>\n",
       "      <td>0</td>\n",
       "      <td>41</td>\n",
       "      <td>61</td>\n",
       "      <td>8</td>\n",
       "      <td>12</td>\n",
       "      <td>2</td>\n",
       "      <td>19</td>\n",
       "      <td>0.11</td>\n",
       "      <td>0</td>\n",
       "      <td>0</td>\n",
       "      <td>...</td>\n",
       "      <td>0</td>\n",
       "      <td>0</td>\n",
       "      <td>0</td>\n",
       "      <td>0</td>\n",
       "      <td>0</td>\n",
       "      <td>0</td>\n",
       "      <td>0</td>\n",
       "      <td>0</td>\n",
       "      <td>0</td>\n",
       "      <td>0</td>\n",
       "    </tr>\n",
       "    <tr>\n",
       "      <th>77190</th>\n",
       "      <td>0</td>\n",
       "      <td>65</td>\n",
       "      <td>56</td>\n",
       "      <td>14</td>\n",
       "      <td>13</td>\n",
       "      <td>4</td>\n",
       "      <td>25</td>\n",
       "      <td>0.16</td>\n",
       "      <td>0</td>\n",
       "      <td>0</td>\n",
       "      <td>...</td>\n",
       "      <td>0</td>\n",
       "      <td>0</td>\n",
       "      <td>0</td>\n",
       "      <td>0</td>\n",
       "      <td>0</td>\n",
       "      <td>0</td>\n",
       "      <td>0</td>\n",
       "      <td>0</td>\n",
       "      <td>0</td>\n",
       "      <td>0</td>\n",
       "    </tr>\n",
       "    <tr>\n",
       "      <th>69224</th>\n",
       "      <td>1</td>\n",
       "      <td>33</td>\n",
       "      <td>35</td>\n",
       "      <td>6</td>\n",
       "      <td>5</td>\n",
       "      <td>4</td>\n",
       "      <td>11</td>\n",
       "      <td>0.36</td>\n",
       "      <td>0</td>\n",
       "      <td>0</td>\n",
       "      <td>...</td>\n",
       "      <td>0</td>\n",
       "      <td>0</td>\n",
       "      <td>0</td>\n",
       "      <td>0</td>\n",
       "      <td>0</td>\n",
       "      <td>0</td>\n",
       "      <td>0</td>\n",
       "      <td>0</td>\n",
       "      <td>0</td>\n",
       "      <td>0</td>\n",
       "    </tr>\n",
       "    <tr>\n",
       "      <th>188666</th>\n",
       "      <td>0</td>\n",
       "      <td>20</td>\n",
       "      <td>27</td>\n",
       "      <td>4</td>\n",
       "      <td>6</td>\n",
       "      <td>3</td>\n",
       "      <td>10</td>\n",
       "      <td>0.30</td>\n",
       "      <td>0</td>\n",
       "      <td>0</td>\n",
       "      <td>...</td>\n",
       "      <td>0</td>\n",
       "      <td>0</td>\n",
       "      <td>0</td>\n",
       "      <td>0</td>\n",
       "      <td>0</td>\n",
       "      <td>0</td>\n",
       "      <td>0</td>\n",
       "      <td>0</td>\n",
       "      <td>0</td>\n",
       "      <td>0</td>\n",
       "    </tr>\n",
       "  </tbody>\n",
       "</table>\n",
       "<p>5 rows × 6008 columns</p>\n",
       "</div>"
      ],
      "text/plain": [
       "        is_duplicate  qsn1_len  qsn2_len  qsn1_word_len  qsn2_word_len  \\\n",
       "327032             0        52        73             11             17   \n",
       "233188             0        41        61              8             12   \n",
       "77190              0        65        56             14             13   \n",
       "69224              1        33        35              6              5   \n",
       "188666             0        20        27              4              6   \n",
       "\n",
       "        common_word  total_word  word_share  0  1  ...  2990  2991  2992  \\\n",
       "327032            2          27        0.07  0  0  ...     0     0     0   \n",
       "233188            2          19        0.11  0  0  ...     0     0     0   \n",
       "77190             4          25        0.16  0  0  ...     0     0     0   \n",
       "69224             4          11        0.36  0  0  ...     0     0     0   \n",
       "188666            3          10        0.30  0  0  ...     0     0     0   \n",
       "\n",
       "        2993  2994  2995  2996  2997  2998  2999  \n",
       "327032     0     0     0     0     0     0     0  \n",
       "233188     0     0     0     0     0     0     0  \n",
       "77190      0     0     0     0     0     0     0  \n",
       "69224      0     0     0     0     0     0     0  \n",
       "188666     0     0     0     0     0     0     0  \n",
       "\n",
       "[5 rows x 6008 columns]"
      ]
     },
     "execution_count": 26,
     "metadata": {},
     "output_type": "execute_result"
    }
   ],
   "source": [
    "final_df = pd.concat([new_df, temp_new], axis=1)\n",
    "print(final_df.shape)\n",
    "final_df.head()"
   ]
  },
  {
   "cell_type": "code",
   "execution_count": 27,
   "id": "1672b0e9",
   "metadata": {},
   "outputs": [],
   "source": [
    "from sklearn.model_selection import train_test_split\n",
    "X_train, X_test, y_train, y_test = train_test_split(final_df.iloc[:,1:].values,final_df.iloc[:,0].values,test_size=0.2,random_state=10)"
   ]
  },
  {
   "cell_type": "code",
   "execution_count": 28,
   "id": "2a42ba51",
   "metadata": {},
   "outputs": [
    {
     "name": "stdout",
     "output_type": "stream",
     "text": [
      "(24000, 6007)\n",
      "(6000, 6007)\n"
     ]
    }
   ],
   "source": [
    "print(X_train.shape)\n",
    "print(X_test.shape)"
   ]
  },
  {
   "cell_type": "code",
   "execution_count": 29,
   "id": "78a8a236",
   "metadata": {},
   "outputs": [
    {
     "name": "stdout",
     "output_type": "stream",
     "text": [
      "0.7708333333333334\n"
     ]
    }
   ],
   "source": [
    "from sklearn.ensemble import RandomForestClassifier\n",
    "from sklearn.metrics import accuracy_score\n",
    "rfc = RandomForestClassifier()\n",
    "rfc.fit(X_train, y_train)\n",
    "y_pred = rfc.predict(X_test)\n",
    "print(accuracy_score(y_test, y_pred))"
   ]
  },
  {
   "cell_type": "code",
   "execution_count": null,
   "id": "13ef6aa9",
   "metadata": {},
   "outputs": [],
   "source": []
  },
  {
   "cell_type": "code",
   "execution_count": 30,
   "id": "ad51784e",
   "metadata": {},
   "outputs": [],
   "source": [
    "# from tensorflow.keras.layers import Input, Embedding, LSTM, Dense\n",
    "# from tensorflow.keras.models import Model"
   ]
  },
  {
   "cell_type": "code",
   "execution_count": 31,
   "id": "50d5efd4",
   "metadata": {},
   "outputs": [],
   "source": [
    "# # Define the input shape\n",
    "# input_shape = (107,)\n",
    "\n",
    "# # Define the embedding size\n",
    "# embedding_size = 100\n",
    "\n",
    "# # Define the number of LSTM units\n",
    "# lstm_units = 128\n",
    "\n",
    "# # Define the number of classes\n",
    "# num_classes = 1\n",
    "\n",
    "# # Define the input layer\n",
    "# inputs = Input(shape=input_shape)\n",
    "\n",
    "# # Define the embedding layer\n",
    "# embedding_layer = Embedding(input_dim=5000, output_dim=embedding_size)(inputs)\n",
    "\n",
    "# # Define the LSTM layer\n",
    "# lstm_layer = LSTM(units=lstm_units)(embedding_layer)\n",
    "\n",
    "# # Define the output layer\n",
    "# outputs = Dense(units=num_classes, activation='softmax')(lstm_layer)\n",
    "\n",
    "# # Define the model\n",
    "# model = Model(inputs=inputs, outputs=outputs)\n",
    "\n",
    "# # Compile the model\n",
    "# model.compile(loss='categorical_crossentropy', optimizer='adam', metrics=['accuracy'])"
   ]
  },
  {
   "cell_type": "code",
   "execution_count": 32,
   "id": "f2f08bdf",
   "metadata": {},
   "outputs": [],
   "source": [
    "# model.fit(X_train, y_train, validation_data=(X_test, y_test), epochs=1, verbose=1)"
   ]
  },
  {
   "cell_type": "code",
   "execution_count": null,
   "id": "d654e466",
   "metadata": {},
   "outputs": [],
   "source": [
    " "
   ]
  }
 ],
 "metadata": {
  "kernelspec": {
   "display_name": "Python 3 (ipykernel)",
   "language": "python",
   "name": "python3"
  },
  "language_info": {
   "codemirror_mode": {
    "name": "ipython",
    "version": 3
   },
   "file_extension": ".py",
   "mimetype": "text/x-python",
   "name": "python",
   "nbconvert_exporter": "python",
   "pygments_lexer": "ipython3",
   "version": "3.10.5"
  }
 },
 "nbformat": 4,
 "nbformat_minor": 5
}
