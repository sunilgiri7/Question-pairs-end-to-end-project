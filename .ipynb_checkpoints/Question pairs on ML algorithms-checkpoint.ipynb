{
 "cells": [
  {
   "cell_type": "code",
   "execution_count": 1,
   "id": "c0bb4114",
   "metadata": {},
   "outputs": [],
   "source": [
    "import pandas as pd\n",
    "import numpy as np\n",
    "df = pd.read_csv('train.csv')"
   ]
  },
  {
   "cell_type": "code",
   "execution_count": 2,
   "id": "d043ac1c",
   "metadata": {},
   "outputs": [
    {
     "name": "stdout",
     "output_type": "stream",
     "text": [
      "(10000, 6)\n"
     ]
    }
   ],
   "source": [
    "df = df.sample(10000)\n",
    "print(df.shape)"
   ]
  },
  {
   "cell_type": "code",
   "execution_count": 3,
   "id": "9df5df5c",
   "metadata": {},
   "outputs": [
    {
     "data": {
      "text/html": [
       "<div>\n",
       "<style scoped>\n",
       "    .dataframe tbody tr th:only-of-type {\n",
       "        vertical-align: middle;\n",
       "    }\n",
       "\n",
       "    .dataframe tbody tr th {\n",
       "        vertical-align: top;\n",
       "    }\n",
       "\n",
       "    .dataframe thead th {\n",
       "        text-align: right;\n",
       "    }\n",
       "</style>\n",
       "<table border=\"1\" class=\"dataframe\">\n",
       "  <thead>\n",
       "    <tr style=\"text-align: right;\">\n",
       "      <th></th>\n",
       "      <th>id</th>\n",
       "      <th>qid1</th>\n",
       "      <th>qid2</th>\n",
       "      <th>question1</th>\n",
       "      <th>question2</th>\n",
       "      <th>is_duplicate</th>\n",
       "    </tr>\n",
       "  </thead>\n",
       "  <tbody>\n",
       "    <tr>\n",
       "      <th>292907</th>\n",
       "      <td>292907</td>\n",
       "      <td>200530</td>\n",
       "      <td>269547</td>\n",
       "      <td>Who is the worst minister in modi cabinet?</td>\n",
       "      <td>Who are the best ministers in the Modi Cabinet...</td>\n",
       "      <td>1</td>\n",
       "    </tr>\n",
       "  </tbody>\n",
       "</table>\n",
       "</div>"
      ],
      "text/plain": [
       "            id    qid1    qid2                                   question1  \\\n",
       "292907  292907  200530  269547  Who is the worst minister in modi cabinet?   \n",
       "\n",
       "                                                question2  is_duplicate  \n",
       "292907  Who are the best ministers in the Modi Cabinet...             1  "
      ]
     },
     "execution_count": 3,
     "metadata": {},
     "output_type": "execute_result"
    }
   ],
   "source": [
    "df[:1]"
   ]
  },
  {
   "cell_type": "code",
   "execution_count": 4,
   "id": "d2ed508d",
   "metadata": {},
   "outputs": [
    {
     "data": {
      "text/plain": [
       "id              0\n",
       "qid1            0\n",
       "qid2            0\n",
       "question1       0\n",
       "question2       0\n",
       "is_duplicate    0\n",
       "dtype: int64"
      ]
     },
     "execution_count": 4,
     "metadata": {},
     "output_type": "execute_result"
    }
   ],
   "source": [
    "df.isnull().sum()"
   ]
  },
  {
   "cell_type": "code",
   "execution_count": 5,
   "id": "1a3cf84e",
   "metadata": {},
   "outputs": [],
   "source": [
    "df = df.dropna()"
   ]
  },
  {
   "cell_type": "code",
   "execution_count": 6,
   "id": "b1d49193",
   "metadata": {},
   "outputs": [
    {
     "name": "stdout",
     "output_type": "stream",
     "text": [
      "0    6290\n",
      "1    3710\n",
      "Name: is_duplicate, dtype: int64\n",
      "0    62.9\n",
      "1    37.1\n",
      "Name: is_duplicate, dtype: float64\n"
     ]
    },
    {
     "data": {
      "text/plain": [
       "<AxesSubplot:>"
      ]
     },
     "execution_count": 6,
     "metadata": {},
     "output_type": "execute_result"
    },
    {
     "data": {
      "image/png": "[encoded data removed]",
      "text/plain": [
       "<Figure size 432x288 with 1 Axes>"
      ]
     },
     "metadata": {
      "needs_background": "light"
     },
     "output_type": "display_data"
    }
   ],
   "source": [
    "## Distrubition of duplication and non duplication\n",
    "\n",
    "print(df['is_duplicate'].value_counts())\n",
    "print((df['is_duplicate'].value_counts()/df['is_duplicate'].count())*100)\n",
    "df['is_duplicate'].value_counts().plot(kind='bar')"
   ]
  },
  {
   "cell_type": "code",
   "execution_count": 7,
   "id": "75adbd92",
   "metadata": {},
   "outputs": [
    {
     "name": "stdout",
     "output_type": "stream",
     "text": [
      "number of unique questions 19355\n",
      "number of question getting repeated 563\n"
     ]
    }
   ],
   "source": [
    "qid = pd.Series(df['qid1'].tolist() + df['qid2'].tolist())\n",
    "print(\"number of unique questions\",np.unique(qid).shape[0])\n",
    "x = qid.value_counts()>1\n",
    "print(\"number of question getting repeated\", x[x].shape[0])"
   ]
  },
  {
   "cell_type": "code",
   "execution_count": 8,
   "id": "78829260",
   "metadata": {},
   "outputs": [
    {
     "data": {
      "image/png": "[encoded data removed]",
      "text/plain": [
       "<Figure size 432x288 with 1 Axes>"
      ]
     },
     "metadata": {
      "needs_background": "light"
     },
     "output_type": "display_data"
    }
   ],
   "source": [
    "import matplotlib.pyplot as plt\n",
    "plt.hist(qid.value_counts().values, bins=160)\n",
    "plt.yscale('log')\n",
    "plt.show()"
   ]
  },
  {
   "cell_type": "code",
   "execution_count": 9,
   "id": "90d3572c",
   "metadata": {},
   "outputs": [],
   "source": [
    "## Feature engineering\n",
    "df['qsn1_len'] = df['question1'].str.len()\n",
    "df['qsn2_len'] = df['question2'].str.len()"
   ]
  },
  {
   "cell_type": "code",
   "execution_count": 10,
   "id": "488ae3cc",
   "metadata": {},
   "outputs": [],
   "source": [
    "df['qsn1_word_len'] = df['question1'].str.split().str.len()\n",
    "df['qsn2_word_len'] = df['question2'].str.split().str.len()"
   ]
  },
  {
   "cell_type": "code",
   "execution_count": 11,
   "id": "c15e2e88",
   "metadata": {},
   "outputs": [
    {
     "data": {
      "text/html": [
       "<div>\n",
       "<style scoped>\n",
       "    .dataframe tbody tr th:only-of-type {\n",
       "        vertical-align: middle;\n",
       "    }\n",
       "\n",
       "    .dataframe tbody tr th {\n",
       "        vertical-align: top;\n",
       "    }\n",
       "\n",
       "    .dataframe thead th {\n",
       "        text-align: right;\n",
       "    }\n",
       "</style>\n",
       "<table border=\"1\" class=\"dataframe\">\n",
       "  <thead>\n",
       "    <tr style=\"text-align: right;\">\n",
       "      <th></th>\n",
       "      <th>id</th>\n",
       "      <th>qid1</th>\n",
       "      <th>qid2</th>\n",
       "      <th>question1</th>\n",
       "      <th>question2</th>\n",
       "      <th>is_duplicate</th>\n",
       "      <th>qsn1_len</th>\n",
       "      <th>qsn2_len</th>\n",
       "      <th>qsn1_word_len</th>\n",
       "      <th>qsn2_word_len</th>\n",
       "    </tr>\n",
       "  </thead>\n",
       "  <tbody>\n",
       "    <tr>\n",
       "      <th>292907</th>\n",
       "      <td>292907</td>\n",
       "      <td>200530</td>\n",
       "      <td>269547</td>\n",
       "      <td>Who is the worst minister in modi cabinet?</td>\n",
       "      <td>Who are the best ministers in the Modi Cabinet...</td>\n",
       "      <td>1</td>\n",
       "      <td>42</td>\n",
       "      <td>56</td>\n",
       "      <td>8</td>\n",
       "      <td>11</td>\n",
       "    </tr>\n",
       "    <tr>\n",
       "      <th>101883</th>\n",
       "      <td>101883</td>\n",
       "      <td>168691</td>\n",
       "      <td>168692</td>\n",
       "      <td>If the U.S. had the determination since the 19...</td>\n",
       "      <td>If the Nazi never existed (or won WWII), would...</td>\n",
       "      <td>0</td>\n",
       "      <td>145</td>\n",
       "      <td>105</td>\n",
       "      <td>25</td>\n",
       "      <td>19</td>\n",
       "    </tr>\n",
       "    <tr>\n",
       "      <th>324917</th>\n",
       "      <td>324917</td>\n",
       "      <td>451079</td>\n",
       "      <td>451080</td>\n",
       "      <td>What is your review of Temenos?</td>\n",
       "      <td>Can Temenos Core Banking system be hosted in t...</td>\n",
       "      <td>0</td>\n",
       "      <td>31</td>\n",
       "      <td>55</td>\n",
       "      <td>6</td>\n",
       "      <td>10</td>\n",
       "    </tr>\n",
       "    <tr>\n",
       "      <th>211393</th>\n",
       "      <td>211393</td>\n",
       "      <td>316224</td>\n",
       "      <td>316225</td>\n",
       "      <td>Is flax is used for making ropes and gunny bags?</td>\n",
       "      <td>What are sand bags used for?</td>\n",
       "      <td>0</td>\n",
       "      <td>48</td>\n",
       "      <td>28</td>\n",
       "      <td>10</td>\n",
       "      <td>6</td>\n",
       "    </tr>\n",
       "    <tr>\n",
       "      <th>332813</th>\n",
       "      <td>332813</td>\n",
       "      <td>58696</td>\n",
       "      <td>3741</td>\n",
       "      <td>Is it possible to view someone's private Insta...</td>\n",
       "      <td>How can I view a private Instagram?</td>\n",
       "      <td>1</td>\n",
       "      <td>59</td>\n",
       "      <td>35</td>\n",
       "      <td>9</td>\n",
       "      <td>7</td>\n",
       "    </tr>\n",
       "  </tbody>\n",
       "</table>\n",
       "</div>"
      ],
      "text/plain": [
       "            id    qid1    qid2  \\\n",
       "292907  292907  200530  269547   \n",
       "101883  101883  168691  168692   \n",
       "324917  324917  451079  451080   \n",
       "211393  211393  316224  316225   \n",
       "332813  332813   58696    3741   \n",
       "\n",
       "                                                question1  \\\n",
       "292907         Who is the worst minister in modi cabinet?   \n",
       "101883  If the U.S. had the determination since the 19...   \n",
       "324917                    What is your review of Temenos?   \n",
       "211393   Is flax is used for making ropes and gunny bags?   \n",
       "332813  Is it possible to view someone's private Insta...   \n",
       "\n",
       "                                                question2  is_duplicate  \\\n",
       "292907  Who are the best ministers in the Modi Cabinet...             1   \n",
       "101883  If the Nazi never existed (or won WWII), would...             0   \n",
       "324917  Can Temenos Core Banking system be hosted in t...             0   \n",
       "211393                       What are sand bags used for?             0   \n",
       "332813                How can I view a private Instagram?             1   \n",
       "\n",
       "        qsn1_len  qsn2_len  qsn1_word_len  qsn2_word_len  \n",
       "292907        42        56              8             11  \n",
       "101883       145       105             25             19  \n",
       "324917        31        55              6             10  \n",
       "211393        48        28             10              6  \n",
       "332813        59        35              9              7  "
      ]
     },
     "execution_count": 11,
     "metadata": {},
     "output_type": "execute_result"
    }
   ],
   "source": [
    "df.head()"
   ]
  },
  {
   "cell_type": "code",
   "execution_count": 12,
   "id": "79b5df64",
   "metadata": {},
   "outputs": [],
   "source": [
    "def common_word(row):\n",
    "    q1 = set(map(lambda word: word.lower().strip(), row['question1'].split(' ')))\n",
    "    q2 = set(map(lambda word: word.lower().strip(), row['question2'].split(' ')))\n",
    "    return len(q1 & q2)"
   ]
  },
  {
   "cell_type": "code",
   "execution_count": 13,
   "id": "7fb29868",
   "metadata": {},
   "outputs": [
    {
     "data": {
      "text/plain": [
       "{'giri', 'hello', 'iam', 'nlp', 'on', 'project', 'sunil', 'working'}"
      ]
     },
     "execution_count": 13,
     "metadata": {},
     "output_type": "execute_result"
    }
   ],
   "source": [
    "set(map(lambda word: word.lower().strip(), 'hello iam sunil giri working on NLP project'.split(' ')))"
   ]
  },
  {
   "cell_type": "code",
   "execution_count": 14,
   "id": "8bb81bfe",
   "metadata": {},
   "outputs": [],
   "source": [
    "df['common_word'] = df.apply(common_word, axis=1)"
   ]
  },
  {
   "cell_type": "code",
   "execution_count": 15,
   "id": "2dc1e8df",
   "metadata": {},
   "outputs": [],
   "source": [
    "def common_word(row):\n",
    "    q1 = set(map(lambda word: word.lower().strip(), row['question1'].split(' ')))\n",
    "    q2 = set(map(lambda word: word.lower().strip(), row['question2'].split(' ')))\n",
    "    return (len(q1) + len(q2))"
   ]
  },
  {
   "cell_type": "code",
   "execution_count": 16,
   "id": "10c3e65d",
   "metadata": {},
   "outputs": [],
   "source": [
    "df['total_word'] = df.apply(common_word, axis=1)"
   ]
  },
  {
   "cell_type": "code",
   "execution_count": 17,
   "id": "2fd50625",
   "metadata": {},
   "outputs": [
    {
     "data": {
      "text/html": [
       "<div>\n",
       "<style scoped>\n",
       "    .dataframe tbody tr th:only-of-type {\n",
       "        vertical-align: middle;\n",
       "    }\n",
       "\n",
       "    .dataframe tbody tr th {\n",
       "        vertical-align: top;\n",
       "    }\n",
       "\n",
       "    .dataframe thead th {\n",
       "        text-align: right;\n",
       "    }\n",
       "</style>\n",
       "<table border=\"1\" class=\"dataframe\">\n",
       "  <thead>\n",
       "    <tr style=\"text-align: right;\">\n",
       "      <th></th>\n",
       "      <th>id</th>\n",
       "      <th>qid1</th>\n",
       "      <th>qid2</th>\n",
       "      <th>question1</th>\n",
       "      <th>question2</th>\n",
       "      <th>is_duplicate</th>\n",
       "      <th>qsn1_len</th>\n",
       "      <th>qsn2_len</th>\n",
       "      <th>qsn1_word_len</th>\n",
       "      <th>qsn2_word_len</th>\n",
       "      <th>common_word</th>\n",
       "      <th>total_word</th>\n",
       "      <th>word_share</th>\n",
       "    </tr>\n",
       "  </thead>\n",
       "  <tbody>\n",
       "    <tr>\n",
       "      <th>292907</th>\n",
       "      <td>292907</td>\n",
       "      <td>200530</td>\n",
       "      <td>269547</td>\n",
       "      <td>Who is the worst minister in modi cabinet?</td>\n",
       "      <td>Who are the best ministers in the Modi Cabinet...</td>\n",
       "      <td>1</td>\n",
       "      <td>42</td>\n",
       "      <td>56</td>\n",
       "      <td>8</td>\n",
       "      <td>11</td>\n",
       "      <td>5</td>\n",
       "      <td>18</td>\n",
       "      <td>0.28</td>\n",
       "    </tr>\n",
       "    <tr>\n",
       "      <th>101883</th>\n",
       "      <td>101883</td>\n",
       "      <td>168691</td>\n",
       "      <td>168692</td>\n",
       "      <td>If the U.S. had the determination since the 19...</td>\n",
       "      <td>If the Nazi never existed (or won WWII), would...</td>\n",
       "      <td>0</td>\n",
       "      <td>145</td>\n",
       "      <td>105</td>\n",
       "      <td>25</td>\n",
       "      <td>19</td>\n",
       "      <td>5</td>\n",
       "      <td>40</td>\n",
       "      <td>0.12</td>\n",
       "    </tr>\n",
       "  </tbody>\n",
       "</table>\n",
       "</div>"
      ],
      "text/plain": [
       "            id    qid1    qid2  \\\n",
       "292907  292907  200530  269547   \n",
       "101883  101883  168691  168692   \n",
       "\n",
       "                                                question1  \\\n",
       "292907         Who is the worst minister in modi cabinet?   \n",
       "101883  If the U.S. had the determination since the 19...   \n",
       "\n",
       "                                                question2  is_duplicate  \\\n",
       "292907  Who are the best ministers in the Modi Cabinet...             1   \n",
       "101883  If the Nazi never existed (or won WWII), would...             0   \n",
       "\n",
       "        qsn1_len  qsn2_len  qsn1_word_len  qsn2_word_len  common_word  \\\n",
       "292907        42        56              8             11            5   \n",
       "101883       145       105             25             19            5   \n",
       "\n",
       "        total_word  word_share  \n",
       "292907          18        0.28  \n",
       "101883          40        0.12  "
      ]
     },
     "execution_count": 17,
     "metadata": {},
     "output_type": "execute_result"
    }
   ],
   "source": [
    "df['word_share'] = round(df['common_word']/df['total_word'],2)\n",
    "df.head(2)"
   ]
  },
  {
   "cell_type": "code",
   "execution_count": 18,
   "id": "e15e5dc9",
   "metadata": {},
   "outputs": [
    {
     "name": "stderr",
     "output_type": "stream",
     "text": [
      "C:\\python37\\lib\\site-packages\\seaborn\\distributions.py:2619: FutureWarning: `distplot` is a deprecated function and will be removed in a future version. Please adapt your code to use either `displot` (a figure-level function with similar flexibility) or `histplot` (an axes-level function for histograms).\n",
      "  warnings.warn(msg, FutureWarning)\n"
     ]
    },
    {
     "data": {
      "text/plain": [
       "<AxesSubplot:xlabel='qsn1_len', ylabel='Density'>"
      ]
     },
     "execution_count": 18,
     "metadata": {},
     "output_type": "execute_result"
    },
    {
     "data": {
      "image/png": "[encoded data removed]",
      "text/plain": [
       "<Figure size 432x288 with 1 Axes>"
      ]
     },
     "metadata": {
      "needs_background": "light"
     },
     "output_type": "display_data"
    }
   ],
   "source": [
    "import seaborn as sns\n",
    "sns.distplot(df['qsn1_len'])"
   ]
  },
  {
   "cell_type": "code",
   "execution_count": 19,
   "id": "22c4b354",
   "metadata": {},
   "outputs": [
    {
     "data": {
      "text/html": [
       "<div>\n",
       "<style scoped>\n",
       "    .dataframe tbody tr th:only-of-type {\n",
       "        vertical-align: middle;\n",
       "    }\n",
       "\n",
       "    .dataframe tbody tr th {\n",
       "        vertical-align: top;\n",
       "    }\n",
       "\n",
       "    .dataframe thead th {\n",
       "        text-align: right;\n",
       "    }\n",
       "</style>\n",
       "<table border=\"1\" class=\"dataframe\">\n",
       "  <thead>\n",
       "    <tr style=\"text-align: right;\">\n",
       "      <th></th>\n",
       "      <th>id</th>\n",
       "      <th>qid1</th>\n",
       "      <th>qid2</th>\n",
       "      <th>is_duplicate</th>\n",
       "      <th>qsn1_len</th>\n",
       "      <th>qsn2_len</th>\n",
       "      <th>qsn1_word_len</th>\n",
       "      <th>qsn2_word_len</th>\n",
       "      <th>common_word</th>\n",
       "      <th>total_word</th>\n",
       "      <th>word_share</th>\n",
       "    </tr>\n",
       "  </thead>\n",
       "  <tbody>\n",
       "    <tr>\n",
       "      <th>count</th>\n",
       "      <td>10000.000000</td>\n",
       "      <td>10000.000000</td>\n",
       "      <td>10000.000000</td>\n",
       "      <td>10000.000000</td>\n",
       "      <td>10000.000000</td>\n",
       "      <td>10000.000000</td>\n",
       "      <td>10000.000000</td>\n",
       "      <td>10000.000000</td>\n",
       "      <td>10000.000000</td>\n",
       "      <td>10000.000000</td>\n",
       "      <td>10000.000000</td>\n",
       "    </tr>\n",
       "    <tr>\n",
       "      <th>mean</th>\n",
       "      <td>201621.114600</td>\n",
       "      <td>218368.301100</td>\n",
       "      <td>221037.478400</td>\n",
       "      <td>0.371000</td>\n",
       "      <td>59.616900</td>\n",
       "      <td>60.185400</td>\n",
       "      <td>10.977900</td>\n",
       "      <td>11.215900</td>\n",
       "      <td>4.523400</td>\n",
       "      <td>21.166500</td>\n",
       "      <td>0.224583</td>\n",
       "    </tr>\n",
       "    <tr>\n",
       "      <th>std</th>\n",
       "      <td>115840.058555</td>\n",
       "      <td>158265.360497</td>\n",
       "      <td>160010.952106</td>\n",
       "      <td>0.483097</td>\n",
       "      <td>30.121757</td>\n",
       "      <td>37.247276</td>\n",
       "      <td>5.435547</td>\n",
       "      <td>7.035058</td>\n",
       "      <td>3.048538</td>\n",
       "      <td>8.837092</td>\n",
       "      <td>0.127973</td>\n",
       "    </tr>\n",
       "    <tr>\n",
       "      <th>min</th>\n",
       "      <td>82.000000</td>\n",
       "      <td>29.000000</td>\n",
       "      <td>38.000000</td>\n",
       "      <td>0.000000</td>\n",
       "      <td>4.000000</td>\n",
       "      <td>5.000000</td>\n",
       "      <td>1.000000</td>\n",
       "      <td>1.000000</td>\n",
       "      <td>0.000000</td>\n",
       "      <td>5.000000</td>\n",
       "      <td>0.000000</td>\n",
       "    </tr>\n",
       "    <tr>\n",
       "      <th>25%</th>\n",
       "      <td>103910.000000</td>\n",
       "      <td>73796.000000</td>\n",
       "      <td>73422.750000</td>\n",
       "      <td>0.000000</td>\n",
       "      <td>39.000000</td>\n",
       "      <td>39.000000</td>\n",
       "      <td>7.000000</td>\n",
       "      <td>7.000000</td>\n",
       "      <td>2.000000</td>\n",
       "      <td>15.000000</td>\n",
       "      <td>0.120000</td>\n",
       "    </tr>\n",
       "    <tr>\n",
       "      <th>50%</th>\n",
       "      <td>202191.500000</td>\n",
       "      <td>194541.000000</td>\n",
       "      <td>199343.000000</td>\n",
       "      <td>0.000000</td>\n",
       "      <td>52.000000</td>\n",
       "      <td>51.000000</td>\n",
       "      <td>10.000000</td>\n",
       "      <td>10.000000</td>\n",
       "      <td>4.000000</td>\n",
       "      <td>19.000000</td>\n",
       "      <td>0.220000</td>\n",
       "    </tr>\n",
       "    <tr>\n",
       "      <th>75%</th>\n",
       "      <td>301679.500000</td>\n",
       "      <td>347108.000000</td>\n",
       "      <td>352617.000000</td>\n",
       "      <td>1.000000</td>\n",
       "      <td>72.000000</td>\n",
       "      <td>71.000000</td>\n",
       "      <td>13.000000</td>\n",
       "      <td>13.000000</td>\n",
       "      <td>6.000000</td>\n",
       "      <td>25.000000</td>\n",
       "      <td>0.320000</td>\n",
       "    </tr>\n",
       "    <tr>\n",
       "      <th>max</th>\n",
       "      <td>404261.000000</td>\n",
       "      <td>537761.000000</td>\n",
       "      <td>537742.000000</td>\n",
       "      <td>1.000000</td>\n",
       "      <td>299.000000</td>\n",
       "      <td>1151.000000</td>\n",
       "      <td>60.000000</td>\n",
       "      <td>237.000000</td>\n",
       "      <td>27.000000</td>\n",
       "      <td>155.000000</td>\n",
       "      <td>0.500000</td>\n",
       "    </tr>\n",
       "  </tbody>\n",
       "</table>\n",
       "</div>"
      ],
      "text/plain": [
       "                  id           qid1           qid2  is_duplicate  \\\n",
       "count   10000.000000   10000.000000   10000.000000  10000.000000   \n",
       "mean   201621.114600  218368.301100  221037.478400      0.371000   \n",
       "std    115840.058555  158265.360497  160010.952106      0.483097   \n",
       "min        82.000000      29.000000      38.000000      0.000000   \n",
       "25%    103910.000000   73796.000000   73422.750000      0.000000   \n",
       "50%    202191.500000  194541.000000  199343.000000      0.000000   \n",
       "75%    301679.500000  347108.000000  352617.000000      1.000000   \n",
       "max    404261.000000  537761.000000  537742.000000      1.000000   \n",
       "\n",
       "           qsn1_len      qsn2_len  qsn1_word_len  qsn2_word_len   common_word  \\\n",
       "count  10000.000000  10000.000000   10000.000000   10000.000000  10000.000000   \n",
       "mean      59.616900     60.185400      10.977900      11.215900      4.523400   \n",
       "std       30.121757     37.247276       5.435547       7.035058      3.048538   \n",
       "min        4.000000      5.000000       1.000000       1.000000      0.000000   \n",
       "25%       39.000000     39.000000       7.000000       7.000000      2.000000   \n",
       "50%       52.000000     51.000000      10.000000      10.000000      4.000000   \n",
       "75%       72.000000     71.000000      13.000000      13.000000      6.000000   \n",
       "max      299.000000   1151.000000      60.000000     237.000000     27.000000   \n",
       "\n",
       "         total_word    word_share  \n",
       "count  10000.000000  10000.000000  \n",
       "mean      21.166500      0.224583  \n",
       "std        8.837092      0.127973  \n",
       "min        5.000000      0.000000  \n",
       "25%       15.000000      0.120000  \n",
       "50%       19.000000      0.220000  \n",
       "75%       25.000000      0.320000  \n",
       "max      155.000000      0.500000  "
      ]
     },
     "execution_count": 19,
     "metadata": {},
     "output_type": "execute_result"
    }
   ],
   "source": [
    "df.describe()"
   ]
  },
  {
   "cell_type": "code",
   "execution_count": 20,
   "id": "07421831",
   "metadata": {},
   "outputs": [
    {
     "name": "stderr",
     "output_type": "stream",
     "text": [
      "C:\\python37\\lib\\site-packages\\seaborn\\distributions.py:2619: FutureWarning: `distplot` is a deprecated function and will be removed in a future version. Please adapt your code to use either `displot` (a figure-level function with similar flexibility) or `histplot` (an axes-level function for histograms).\n",
      "  warnings.warn(msg, FutureWarning)\n",
      "C:\\python37\\lib\\site-packages\\seaborn\\distributions.py:2619: FutureWarning: `distplot` is a deprecated function and will be removed in a future version. Please adapt your code to use either `displot` (a figure-level function with similar flexibility) or `histplot` (an axes-level function for histograms).\n",
      "  warnings.warn(msg, FutureWarning)\n"
     ]
    },
    {
     "data": {
      "image/png": "[encoded data removed]",
      "text/plain": [
       "<Figure size 432x288 with 1 Axes>"
      ]
     },
     "metadata": {
      "needs_background": "light"
     },
     "output_type": "display_data"
    }
   ],
   "source": [
    "sns.distplot(df[df['is_duplicate']==0]['common_word'],label='non_duplicate')\n",
    "sns.distplot(df[df['is_duplicate']==1]['common_word'],label='duplicate')\n",
    "plt.legend()\n",
    "plt.show()"
   ]
  },
  {
   "cell_type": "code",
   "execution_count": 21,
   "id": "827aef3e",
   "metadata": {},
   "outputs": [
    {
     "name": "stderr",
     "output_type": "stream",
     "text": [
      "C:\\python37\\lib\\site-packages\\seaborn\\distributions.py:2619: FutureWarning: `distplot` is a deprecated function and will be removed in a future version. Please adapt your code to use either `displot` (a figure-level function with similar flexibility) or `histplot` (an axes-level function for histograms).\n",
      "  warnings.warn(msg, FutureWarning)\n",
      "C:\\python37\\lib\\site-packages\\seaborn\\distributions.py:2619: FutureWarning: `distplot` is a deprecated function and will be removed in a future version. Please adapt your code to use either `displot` (a figure-level function with similar flexibility) or `histplot` (an axes-level function for histograms).\n",
      "  warnings.warn(msg, FutureWarning)\n"
     ]
    },
    {
     "data": {
      "image/png": "[encoded data removed]",
      "text/plain": [
       "<Figure size 432x288 with 1 Axes>"
      ]
     },
     "metadata": {
      "needs_background": "light"
     },
     "output_type": "display_data"
    }
   ],
   "source": [
    "sns.distplot(df[df['is_duplicate']==0]['word_share'],label='non_duplicate')\n",
    "sns.distplot(df[df['is_duplicate']==1]['word_share'],label='duplicate')\n",
    "plt.legend()\n",
    "plt.show()"
   ]
  },
  {
   "cell_type": "code",
   "execution_count": 22,
   "id": "49f3f6e4",
   "metadata": {},
   "outputs": [
    {
     "data": {
      "text/html": [
       "<div>\n",
       "<style scoped>\n",
       "    .dataframe tbody tr th:only-of-type {\n",
       "        vertical-align: middle;\n",
       "    }\n",
       "\n",
       "    .dataframe tbody tr th {\n",
       "        vertical-align: top;\n",
       "    }\n",
       "\n",
       "    .dataframe thead th {\n",
       "        text-align: right;\n",
       "    }\n",
       "</style>\n",
       "<table border=\"1\" class=\"dataframe\">\n",
       "  <thead>\n",
       "    <tr style=\"text-align: right;\">\n",
       "      <th></th>\n",
       "      <th>id</th>\n",
       "      <th>qid1</th>\n",
       "      <th>qid2</th>\n",
       "      <th>question1</th>\n",
       "      <th>question2</th>\n",
       "      <th>is_duplicate</th>\n",
       "      <th>qsn1_len</th>\n",
       "      <th>qsn2_len</th>\n",
       "      <th>qsn1_word_len</th>\n",
       "      <th>qsn2_word_len</th>\n",
       "      <th>common_word</th>\n",
       "      <th>total_word</th>\n",
       "      <th>word_share</th>\n",
       "    </tr>\n",
       "  </thead>\n",
       "  <tbody>\n",
       "    <tr>\n",
       "      <th>292907</th>\n",
       "      <td>292907</td>\n",
       "      <td>200530</td>\n",
       "      <td>269547</td>\n",
       "      <td>Who is the worst minister in modi cabinet?</td>\n",
       "      <td>Who are the best ministers in the Modi Cabinet...</td>\n",
       "      <td>1</td>\n",
       "      <td>42</td>\n",
       "      <td>56</td>\n",
       "      <td>8</td>\n",
       "      <td>11</td>\n",
       "      <td>5</td>\n",
       "      <td>18</td>\n",
       "      <td>0.28</td>\n",
       "    </tr>\n",
       "    <tr>\n",
       "      <th>101883</th>\n",
       "      <td>101883</td>\n",
       "      <td>168691</td>\n",
       "      <td>168692</td>\n",
       "      <td>If the U.S. had the determination since the 19...</td>\n",
       "      <td>If the Nazi never existed (or won WWII), would...</td>\n",
       "      <td>0</td>\n",
       "      <td>145</td>\n",
       "      <td>105</td>\n",
       "      <td>25</td>\n",
       "      <td>19</td>\n",
       "      <td>5</td>\n",
       "      <td>40</td>\n",
       "      <td>0.12</td>\n",
       "    </tr>\n",
       "    <tr>\n",
       "      <th>324917</th>\n",
       "      <td>324917</td>\n",
       "      <td>451079</td>\n",
       "      <td>451080</td>\n",
       "      <td>What is your review of Temenos?</td>\n",
       "      <td>Can Temenos Core Banking system be hosted in t...</td>\n",
       "      <td>0</td>\n",
       "      <td>31</td>\n",
       "      <td>55</td>\n",
       "      <td>6</td>\n",
       "      <td>10</td>\n",
       "      <td>0</td>\n",
       "      <td>16</td>\n",
       "      <td>0.00</td>\n",
       "    </tr>\n",
       "    <tr>\n",
       "      <th>211393</th>\n",
       "      <td>211393</td>\n",
       "      <td>316224</td>\n",
       "      <td>316225</td>\n",
       "      <td>Is flax is used for making ropes and gunny bags?</td>\n",
       "      <td>What are sand bags used for?</td>\n",
       "      <td>0</td>\n",
       "      <td>48</td>\n",
       "      <td>28</td>\n",
       "      <td>10</td>\n",
       "      <td>6</td>\n",
       "      <td>1</td>\n",
       "      <td>15</td>\n",
       "      <td>0.07</td>\n",
       "    </tr>\n",
       "    <tr>\n",
       "      <th>332813</th>\n",
       "      <td>332813</td>\n",
       "      <td>58696</td>\n",
       "      <td>3741</td>\n",
       "      <td>Is it possible to view someone's private Insta...</td>\n",
       "      <td>How can I view a private Instagram?</td>\n",
       "      <td>1</td>\n",
       "      <td>59</td>\n",
       "      <td>35</td>\n",
       "      <td>9</td>\n",
       "      <td>7</td>\n",
       "      <td>2</td>\n",
       "      <td>16</td>\n",
       "      <td>0.12</td>\n",
       "    </tr>\n",
       "  </tbody>\n",
       "</table>\n",
       "</div>"
      ],
      "text/plain": [
       "            id    qid1    qid2  \\\n",
       "292907  292907  200530  269547   \n",
       "101883  101883  168691  168692   \n",
       "324917  324917  451079  451080   \n",
       "211393  211393  316224  316225   \n",
       "332813  332813   58696    3741   \n",
       "\n",
       "                                                question1  \\\n",
       "292907         Who is the worst minister in modi cabinet?   \n",
       "101883  If the U.S. had the determination since the 19...   \n",
       "324917                    What is your review of Temenos?   \n",
       "211393   Is flax is used for making ropes and gunny bags?   \n",
       "332813  Is it possible to view someone's private Insta...   \n",
       "\n",
       "                                                question2  is_duplicate  \\\n",
       "292907  Who are the best ministers in the Modi Cabinet...             1   \n",
       "101883  If the Nazi never existed (or won WWII), would...             0   \n",
       "324917  Can Temenos Core Banking system be hosted in t...             0   \n",
       "211393                       What are sand bags used for?             0   \n",
       "332813                How can I view a private Instagram?             1   \n",
       "\n",
       "        qsn1_len  qsn2_len  qsn1_word_len  qsn2_word_len  common_word  \\\n",
       "292907        42        56              8             11            5   \n",
       "101883       145       105             25             19            5   \n",
       "324917        31        55              6             10            0   \n",
       "211393        48        28             10              6            1   \n",
       "332813        59        35              9              7            2   \n",
       "\n",
       "        total_word  word_share  \n",
       "292907          18        0.28  \n",
       "101883          40        0.12  \n",
       "324917          16        0.00  \n",
       "211393          15        0.07  \n",
       "332813          16        0.12  "
      ]
     },
     "execution_count": 22,
     "metadata": {},
     "output_type": "execute_result"
    }
   ],
   "source": [
    "temp_df = df[['question1', 'question2']]\n",
    "df.head()"
   ]
  },
  {
   "cell_type": "code",
   "execution_count": 23,
   "id": "7e13c69c",
   "metadata": {},
   "outputs": [
    {
     "name": "stdout",
     "output_type": "stream",
     "text": [
      "(10000, 8)\n"
     ]
    },
    {
     "data": {
      "text/html": [
       "<div>\n",
       "<style scoped>\n",
       "    .dataframe tbody tr th:only-of-type {\n",
       "        vertical-align: middle;\n",
       "    }\n",
       "\n",
       "    .dataframe tbody tr th {\n",
       "        vertical-align: top;\n",
       "    }\n",
       "\n",
       "    .dataframe thead th {\n",
       "        text-align: right;\n",
       "    }\n",
       "</style>\n",
       "<table border=\"1\" class=\"dataframe\">\n",
       "  <thead>\n",
       "    <tr style=\"text-align: right;\">\n",
       "      <th></th>\n",
       "      <th>is_duplicate</th>\n",
       "      <th>qsn1_len</th>\n",
       "      <th>qsn2_len</th>\n",
       "      <th>qsn1_word_len</th>\n",
       "      <th>qsn2_word_len</th>\n",
       "      <th>common_word</th>\n",
       "      <th>total_word</th>\n",
       "      <th>word_share</th>\n",
       "    </tr>\n",
       "  </thead>\n",
       "  <tbody>\n",
       "    <tr>\n",
       "      <th>292907</th>\n",
       "      <td>1</td>\n",
       "      <td>42</td>\n",
       "      <td>56</td>\n",
       "      <td>8</td>\n",
       "      <td>11</td>\n",
       "      <td>5</td>\n",
       "      <td>18</td>\n",
       "      <td>0.28</td>\n",
       "    </tr>\n",
       "    <tr>\n",
       "      <th>101883</th>\n",
       "      <td>0</td>\n",
       "      <td>145</td>\n",
       "      <td>105</td>\n",
       "      <td>25</td>\n",
       "      <td>19</td>\n",
       "      <td>5</td>\n",
       "      <td>40</td>\n",
       "      <td>0.12</td>\n",
       "    </tr>\n",
       "    <tr>\n",
       "      <th>324917</th>\n",
       "      <td>0</td>\n",
       "      <td>31</td>\n",
       "      <td>55</td>\n",
       "      <td>6</td>\n",
       "      <td>10</td>\n",
       "      <td>0</td>\n",
       "      <td>16</td>\n",
       "      <td>0.00</td>\n",
       "    </tr>\n",
       "    <tr>\n",
       "      <th>211393</th>\n",
       "      <td>0</td>\n",
       "      <td>48</td>\n",
       "      <td>28</td>\n",
       "      <td>10</td>\n",
       "      <td>6</td>\n",
       "      <td>1</td>\n",
       "      <td>15</td>\n",
       "      <td>0.07</td>\n",
       "    </tr>\n",
       "    <tr>\n",
       "      <th>332813</th>\n",
       "      <td>1</td>\n",
       "      <td>59</td>\n",
       "      <td>35</td>\n",
       "      <td>9</td>\n",
       "      <td>7</td>\n",
       "      <td>2</td>\n",
       "      <td>16</td>\n",
       "      <td>0.12</td>\n",
       "    </tr>\n",
       "  </tbody>\n",
       "</table>\n",
       "</div>"
      ],
      "text/plain": [
       "        is_duplicate  qsn1_len  qsn2_len  qsn1_word_len  qsn2_word_len  \\\n",
       "292907             1        42        56              8             11   \n",
       "101883             0       145       105             25             19   \n",
       "324917             0        31        55              6             10   \n",
       "211393             0        48        28             10              6   \n",
       "332813             1        59        35              9              7   \n",
       "\n",
       "        common_word  total_word  word_share  \n",
       "292907            5          18        0.28  \n",
       "101883            5          40        0.12  \n",
       "324917            0          16        0.00  \n",
       "211393            1          15        0.07  \n",
       "332813            2          16        0.12  "
      ]
     },
     "execution_count": 23,
     "metadata": {},
     "output_type": "execute_result"
    }
   ],
   "source": [
    "new_df = df.drop(columns = ['id','qid1','qid2','question1','question2'])\n",
    "print(new_df.shape)\n",
    "new_df.head()"
   ]
  },
  {
   "cell_type": "code",
   "execution_count": 24,
   "id": "d2679c7c",
   "metadata": {},
   "outputs": [],
   "source": [
    "from sklearn.feature_extraction.text import CountVectorizer\n",
    "question = list(temp_df['question1']) + list(temp_df['question2'])\n",
    "cv = CountVectorizer(max_features=3000)\n",
    "q1_arr, q2_arr = np.vsplit(cv.fit_transform(question).toarray(),2)"
   ]
  },
  {
   "cell_type": "code",
   "execution_count": 25,
   "id": "d73749ba",
   "metadata": {},
   "outputs": [
    {
     "data": {
      "text/plain": [
       "(10000, 6000)"
      ]
     },
     "execution_count": 25,
     "metadata": {},
     "output_type": "execute_result"
    }
   ],
   "source": [
    "temp_df1 = pd.DataFrame(q1_arr,index=temp_df.index)\n",
    "temp_df2 = pd.DataFrame(q2_arr,index=temp_df.index)\n",
    "temp_new = pd.concat([temp_df1, temp_df2], axis=1)\n",
    "temp_new.shape"
   ]
  },
  {
   "cell_type": "code",
   "execution_count": 26,
   "id": "ab9a3190",
   "metadata": {},
   "outputs": [
    {
     "name": "stdout",
     "output_type": "stream",
     "text": [
      "(10000, 6008)\n"
     ]
    },
    {
     "data": {
      "text/html": [
       "<div>\n",
       "<style scoped>\n",
       "    .dataframe tbody tr th:only-of-type {\n",
       "        vertical-align: middle;\n",
       "    }\n",
       "\n",
       "    .dataframe tbody tr th {\n",
       "        vertical-align: top;\n",
       "    }\n",
       "\n",
       "    .dataframe thead th {\n",
       "        text-align: right;\n",
       "    }\n",
       "</style>\n",
       "<table border=\"1\" class=\"dataframe\">\n",
       "  <thead>\n",
       "    <tr style=\"text-align: right;\">\n",
       "      <th></th>\n",
       "      <th>is_duplicate</th>\n",
       "      <th>qsn1_len</th>\n",
       "      <th>qsn2_len</th>\n",
       "      <th>qsn1_word_len</th>\n",
       "      <th>qsn2_word_len</th>\n",
       "      <th>common_word</th>\n",
       "      <th>total_word</th>\n",
       "      <th>word_share</th>\n",
       "      <th>0</th>\n",
       "      <th>1</th>\n",
       "      <th>...</th>\n",
       "      <th>2990</th>\n",
       "      <th>2991</th>\n",
       "      <th>2992</th>\n",
       "      <th>2993</th>\n",
       "      <th>2994</th>\n",
       "      <th>2995</th>\n",
       "      <th>2996</th>\n",
       "      <th>2997</th>\n",
       "      <th>2998</th>\n",
       "      <th>2999</th>\n",
       "    </tr>\n",
       "  </thead>\n",
       "  <tbody>\n",
       "    <tr>\n",
       "      <th>292907</th>\n",
       "      <td>1</td>\n",
       "      <td>42</td>\n",
       "      <td>56</td>\n",
       "      <td>8</td>\n",
       "      <td>11</td>\n",
       "      <td>5</td>\n",
       "      <td>18</td>\n",
       "      <td>0.28</td>\n",
       "      <td>0</td>\n",
       "      <td>0</td>\n",
       "      <td>...</td>\n",
       "      <td>0</td>\n",
       "      <td>0</td>\n",
       "      <td>0</td>\n",
       "      <td>0</td>\n",
       "      <td>0</td>\n",
       "      <td>0</td>\n",
       "      <td>0</td>\n",
       "      <td>0</td>\n",
       "      <td>0</td>\n",
       "      <td>0</td>\n",
       "    </tr>\n",
       "    <tr>\n",
       "      <th>101883</th>\n",
       "      <td>0</td>\n",
       "      <td>145</td>\n",
       "      <td>105</td>\n",
       "      <td>25</td>\n",
       "      <td>19</td>\n",
       "      <td>5</td>\n",
       "      <td>40</td>\n",
       "      <td>0.12</td>\n",
       "      <td>0</td>\n",
       "      <td>0</td>\n",
       "      <td>...</td>\n",
       "      <td>0</td>\n",
       "      <td>0</td>\n",
       "      <td>0</td>\n",
       "      <td>0</td>\n",
       "      <td>0</td>\n",
       "      <td>0</td>\n",
       "      <td>0</td>\n",
       "      <td>0</td>\n",
       "      <td>0</td>\n",
       "      <td>0</td>\n",
       "    </tr>\n",
       "    <tr>\n",
       "      <th>324917</th>\n",
       "      <td>0</td>\n",
       "      <td>31</td>\n",
       "      <td>55</td>\n",
       "      <td>6</td>\n",
       "      <td>10</td>\n",
       "      <td>0</td>\n",
       "      <td>16</td>\n",
       "      <td>0.00</td>\n",
       "      <td>0</td>\n",
       "      <td>0</td>\n",
       "      <td>...</td>\n",
       "      <td>0</td>\n",
       "      <td>0</td>\n",
       "      <td>0</td>\n",
       "      <td>0</td>\n",
       "      <td>0</td>\n",
       "      <td>0</td>\n",
       "      <td>0</td>\n",
       "      <td>0</td>\n",
       "      <td>0</td>\n",
       "      <td>0</td>\n",
       "    </tr>\n",
       "    <tr>\n",
       "      <th>211393</th>\n",
       "      <td>0</td>\n",
       "      <td>48</td>\n",
       "      <td>28</td>\n",
       "      <td>10</td>\n",
       "      <td>6</td>\n",
       "      <td>1</td>\n",
       "      <td>15</td>\n",
       "      <td>0.07</td>\n",
       "      <td>0</td>\n",
       "      <td>0</td>\n",
       "      <td>...</td>\n",
       "      <td>0</td>\n",
       "      <td>0</td>\n",
       "      <td>0</td>\n",
       "      <td>0</td>\n",
       "      <td>0</td>\n",
       "      <td>0</td>\n",
       "      <td>0</td>\n",
       "      <td>0</td>\n",
       "      <td>0</td>\n",
       "      <td>0</td>\n",
       "    </tr>\n",
       "    <tr>\n",
       "      <th>332813</th>\n",
       "      <td>1</td>\n",
       "      <td>59</td>\n",
       "      <td>35</td>\n",
       "      <td>9</td>\n",
       "      <td>7</td>\n",
       "      <td>2</td>\n",
       "      <td>16</td>\n",
       "      <td>0.12</td>\n",
       "      <td>0</td>\n",
       "      <td>0</td>\n",
       "      <td>...</td>\n",
       "      <td>0</td>\n",
       "      <td>0</td>\n",
       "      <td>0</td>\n",
       "      <td>0</td>\n",
       "      <td>0</td>\n",
       "      <td>0</td>\n",
       "      <td>0</td>\n",
       "      <td>0</td>\n",
       "      <td>0</td>\n",
       "      <td>0</td>\n",
       "    </tr>\n",
       "  </tbody>\n",
       "</table>\n",
       "<p>5 rows × 6008 columns</p>\n",
       "</div>"
      ],
      "text/plain": [
       "        is_duplicate  qsn1_len  qsn2_len  qsn1_word_len  qsn2_word_len  \\\n",
       "292907             1        42        56              8             11   \n",
       "101883             0       145       105             25             19   \n",
       "324917             0        31        55              6             10   \n",
       "211393             0        48        28             10              6   \n",
       "332813             1        59        35              9              7   \n",
       "\n",
       "        common_word  total_word  word_share  0  1  ...  2990  2991  2992  \\\n",
       "292907            5          18        0.28  0  0  ...     0     0     0   \n",
       "101883            5          40        0.12  0  0  ...     0     0     0   \n",
       "324917            0          16        0.00  0  0  ...     0     0     0   \n",
       "211393            1          15        0.07  0  0  ...     0     0     0   \n",
       "332813            2          16        0.12  0  0  ...     0     0     0   \n",
       "\n",
       "        2993  2994  2995  2996  2997  2998  2999  \n",
       "292907     0     0     0     0     0     0     0  \n",
       "101883     0     0     0     0     0     0     0  \n",
       "324917     0     0     0     0     0     0     0  \n",
       "211393     0     0     0     0     0     0     0  \n",
       "332813     0     0     0     0     0     0     0  \n",
       "\n",
       "[5 rows x 6008 columns]"
      ]
     },
     "execution_count": 26,
     "metadata": {},
     "output_type": "execute_result"
    }
   ],
   "source": [
    "final_df = pd.concat([new_df, temp_new], axis=1)\n",
    "print(final_df.shape)\n",
    "final_df.head()"
   ]
  },
  {
   "cell_type": "code",
   "execution_count": null,
   "id": "e6fa1f0f",
   "metadata": {},
   "outputs": [],
   "source": []
  },
  {
   "cell_type": "code",
   "execution_count": 27,
   "id": "1672b0e9",
   "metadata": {},
   "outputs": [],
   "source": [
    "from sklearn.model_selection import train_test_split\n",
    "X_train, X_test, y_train, y_test = train_test_split(final_df.iloc[:,1:].values,final_df.iloc[:,0].values,test_size=0.2,random_state=10)"
   ]
  },
  {
   "cell_type": "code",
   "execution_count": 31,
   "id": "2a42ba51",
   "metadata": {},
   "outputs": [
    {
     "name": "stdout",
     "output_type": "stream",
     "text": [
      "(8000, 6007)\n",
      "(2000, 6007)\n"
     ]
    }
   ],
   "source": [
    "print(X_train.shape)\n",
    "print(X_test.shape)"
   ]
  },
  {
   "cell_type": "code",
   "execution_count": 28,
   "id": "ad51784e",
   "metadata": {},
   "outputs": [],
   "source": [
    "from tensorflow.keras.layers import Input, Embedding, LSTM, Dense\n",
    "from tensorflow.keras.models import Model"
   ]
  },
  {
   "cell_type": "code",
   "execution_count": 37,
   "id": "50d5efd4",
   "metadata": {},
   "outputs": [],
   "source": [
    "# Define the input shape\n",
    "input_shape = (6007,)\n",
    "\n",
    "# Define the embedding size\n",
    "embedding_size = 100\n",
    "\n",
    "# Define the number of LSTM units\n",
    "lstm_units = 128\n",
    "\n",
    "# Define the number of classes\n",
    "num_classes = 1\n",
    "\n",
    "# Define the input layer\n",
    "inputs = Input(shape=input_shape)\n",
    "\n",
    "# Define the embedding layer\n",
    "embedding_layer = Embedding(input_dim=50000, output_dim=embedding_size)(inputs)\n",
    "\n",
    "# Define the LSTM layer\n",
    "lstm_layer = LSTM(units=lstm_units)(embedding_layer)\n",
    "\n",
    "# Define the output layer\n",
    "outputs = Dense(units=num_classes, activation='softmax')(lstm_layer)\n",
    "\n",
    "# Define the model\n",
    "model = Model(inputs=inputs, outputs=outputs)\n",
    "\n",
    "# Compile the model\n",
    "model.compile(loss='categorical_crossentropy', optimizer='adam', metrics=['accuracy'])"
   ]
  },
  {
   "cell_type": "code",
   "execution_count": null,
   "id": "f2f08bdf",
   "metadata": {},
   "outputs": [
    {
     "name": "stdout",
     "output_type": "stream",
     "text": [
      "102/250 [===========>..................] - ETA: 15:41:40 - loss: 0.0000e+00 - accuracy: 0.3725"
     ]
    }
   ],
   "source": [
    "model.fit(X_train, y_train, validation_data=(X_test, y_test), epochs=1, verbose=1)"
   ]
  },
  {
   "cell_type": "code",
   "execution_count": null,
   "id": "d654e466",
   "metadata": {},
   "outputs": [],
   "source": [
    " "
   ]
  }
 ],
 "metadata": {
  "kernelspec": {
   "display_name": "Python 3 (ipykernel)",
   "language": "python",
   "name": "python3"
  },
  "language_info": {
   "codemirror_mode": {
    "name": "ipython",
    "version": 3
   },
   "file_extension": ".py",
   "mimetype": "text/x-python",
   "name": "python",
   "nbconvert_exporter": "python",
   "pygments_lexer": "ipython3",
   "version": "3.10.5"
  }
 },
 "nbformat": 4,
 "nbformat_minor": 5
}
